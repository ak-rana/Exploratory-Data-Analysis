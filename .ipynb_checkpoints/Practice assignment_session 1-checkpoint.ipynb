{
 "cells": [
  {
   "cell_type": "markdown",
   "id": "10de4649",
   "metadata": {},
   "source": [
    "## Python Practice"
   ]
  },
  {
   "cell_type": "markdown",
   "id": "4f65f323",
   "metadata": {},
   "source": [
    "### Strings"
   ]
  },
  {
   "cell_type": "markdown",
   "id": "e958f7b3",
   "metadata": {},
   "source": [
    "### Question 1\n",
    "Get the first character of the string txt."
   ]
  },
  {
   "cell_type": "code",
   "execution_count": 11,
   "id": "0eb366d1",
   "metadata": {},
   "outputs": [],
   "source": [
    "txt = \"Hello World\""
   ]
  },
  {
   "cell_type": "code",
   "execution_count": 8,
   "id": "15c70f50",
   "metadata": {},
   "outputs": [
    {
     "data": {
      "text/plain": [
       "'H'"
      ]
     },
     "execution_count": 8,
     "metadata": {},
     "output_type": "execute_result"
    }
   ],
   "source": [
    "txt[0]"
   ]
  },
  {
   "cell_type": "markdown",
   "id": "f4b6be9d",
   "metadata": {},
   "source": [
    "### Question 2\n",
    "Get the second last character of the given string txt."
   ]
  },
  {
   "cell_type": "code",
   "execution_count": 10,
   "id": "3c1aa9c8",
   "metadata": {},
   "outputs": [],
   "source": [
    "txt = \"Hello World\""
   ]
  },
  {
   "cell_type": "code",
   "execution_count": 9,
   "id": "1974f51a",
   "metadata": {},
   "outputs": [
    {
     "data": {
      "text/plain": [
       "'l'"
      ]
     },
     "execution_count": 9,
     "metadata": {},
     "output_type": "execute_result"
    }
   ],
   "source": [
    "txt[-2]"
   ]
  },
  {
   "cell_type": "markdown",
   "id": "39554dcb",
   "metadata": {},
   "source": [
    "### Question 3\n",
    "Get the characters from index 2 to index 4 (ll)."
   ]
  },
  {
   "cell_type": "code",
   "execution_count": 5,
   "id": "2968fc75",
   "metadata": {},
   "outputs": [],
   "source": [
    "txt = \"Hello World\""
   ]
  },
  {
   "cell_type": "code",
   "execution_count": 10,
   "id": "b3ee34e7",
   "metadata": {},
   "outputs": [
    {
     "data": {
      "text/plain": [
       "'llo'"
      ]
     },
     "execution_count": 10,
     "metadata": {},
     "output_type": "execute_result"
    }
   ],
   "source": [
    "txt[2:5]"
   ]
  },
  {
   "cell_type": "markdown",
   "id": "b10a7638",
   "metadata": {},
   "source": [
    "### Question 4\n",
    "Return the string without any whitespace at the beginning or the end."
   ]
  },
  {
   "cell_type": "code",
   "execution_count": 13,
   "id": "37b74688",
   "metadata": {},
   "outputs": [],
   "source": [
    "txt = \" Hello World \""
   ]
  },
  {
   "cell_type": "code",
   "execution_count": 24,
   "id": "9175a73a",
   "metadata": {},
   "outputs": [
    {
     "data": {
      "text/plain": [
       "'Hello World'"
      ]
     },
     "execution_count": 24,
     "metadata": {},
     "output_type": "execute_result"
    }
   ],
   "source": [
    "txt.strip()"
   ]
  },
  {
   "cell_type": "markdown",
   "id": "f7ef13e9",
   "metadata": {},
   "source": [
    "### Question 5\n",
    "Convert the value of txt to lower case."
   ]
  },
  {
   "cell_type": "code",
   "execution_count": 21,
   "id": "d6a01a25",
   "metadata": {},
   "outputs": [],
   "source": [
    "txt = \" Hello World \""
   ]
  },
  {
   "cell_type": "code",
   "execution_count": 26,
   "id": "36b722fa",
   "metadata": {},
   "outputs": [
    {
     "data": {
      "text/plain": [
       "' hello world '"
      ]
     },
     "execution_count": 26,
     "metadata": {},
     "output_type": "execute_result"
    }
   ],
   "source": [
    "txt.lower()"
   ]
  },
  {
   "cell_type": "markdown",
   "id": "baa7c9b5",
   "metadata": {},
   "source": [
    "### Question 6bu\n",
    "Count how many times \"l\" appeared in the text"
   ]
  },
  {
   "cell_type": "code",
   "execution_count": 28,
   "id": "cc13c68d",
   "metadata": {},
   "outputs": [],
   "source": [
    "txt = \"hello world\""
   ]
  },
  {
   "cell_type": "code",
   "execution_count": 28,
   "id": "fa24f1e0",
   "metadata": {},
   "outputs": [
    {
     "data": {
      "text/plain": [
       "3"
      ]
     },
     "execution_count": 28,
     "metadata": {},
     "output_type": "execute_result"
    }
   ],
   "source": [
    "txt.count(\"l\")"
   ]
  },
  {
   "cell_type": "markdown",
   "id": "3cf48798",
   "metadata": {},
   "source": [
    "### Question 7\n",
    "Replace the character H with a J."
   ]
  },
  {
   "cell_type": "code",
   "execution_count": 34,
   "id": "90dd70ae",
   "metadata": {},
   "outputs": [
    {
     "data": {
      "text/plain": [
       "'Hello World'"
      ]
     },
     "execution_count": 34,
     "metadata": {},
     "output_type": "execute_result"
    }
   ],
   "source": [
    "txt = \"Hello World\"\n",
    "txt"
   ]
  },
  {
   "cell_type": "code",
   "execution_count": 29,
   "id": "b4c9749e",
   "metadata": {},
   "outputs": [
    {
     "data": {
      "text/plain": [
       "'Jello World'"
      ]
     },
     "execution_count": 29,
     "metadata": {},
     "output_type": "execute_result"
    }
   ],
   "source": [
    "txt = \"Jello World\"\n",
    "txt"
   ]
  },
  {
   "cell_type": "markdown",
   "id": "2b83dee8",
   "metadata": {},
   "source": [
    "#### Answer"
   ]
  },
  {
   "cell_type": "markdown",
   "id": "98f3a68c",
   "metadata": {},
   "source": [
    "-----"
   ]
  },
  {
   "cell_type": "markdown",
   "id": "cfe9f6ae",
   "metadata": {},
   "source": [
    "### Additional Question\n",
    "Replace 'the' & 'The' & 'THE', with 'a'"
   ]
  },
  {
   "cell_type": "code",
   "execution_count": 2,
   "id": "a14b0182",
   "metadata": {},
   "outputs": [],
   "source": [
    "big_text = \"The Second Punic War (218–201 BC) was the second of three wars fought between Carthage and Rome, the two main powers of the western Mediterranean in the 3rd century BC. For 17 years the two states struggled for supremacy. After immense materiel and human losses on both sides the Carthaginians were defeated. Macedonia, Syracuse and several Numidian kingdoms were drawn into the fighting, and Iberian and Gallic forces fought on both sides. There were three main military theatres during the war: Italy, where Hannibal defeated the Roman legions repeatedly, with occasional subsidiary campaigns on the islands of Sicily and Sardinia and in Greece; Iberia, where Hasdrubal, a younger brother of Hannibal, defended the Carthaginian colonial cities with mixed success before moving into Italy; and North Africa, where Rome finally won the war. \""
   ]
  },
  {
   "cell_type": "code",
   "execution_count": 4,
   "id": "3f99a230",
   "metadata": {},
   "outputs": [
    {
     "data": {
      "text/plain": [
       "'The Second Punic War (218–201 BC) was the second of three wars fought between Carthage and Rome, the two main powers of the western Mediterranean in the 3rd century BC. For 17 years the two states struggled for supremacy. After immense materiel and human losses on both sides the Carthaginians were defeated. Macedonia, Syracuse and several Numidian kingdoms were drawn into the fighting, and Iberian and Gallic forces fought on both sides. There were three main military theatres during the war: Italy, where Hannibal defeated the Roman legions repeatedly, with occasional subsidiary campaigns on the islands of Sicily and Sardinia and in Greece; Iberia, where Hasdrubal, a younger brother of Hannibal, defended the Carthaginian colonial cities with mixed success before moving into Italy; and North Africa, where Rome finally won the war. '"
      ]
     },
     "execution_count": 4,
     "metadata": {},
     "output_type": "execute_result"
    }
   ],
   "source": [
    "big_text"
   ]
  },
  {
   "cell_type": "code",
   "execution_count": 5,
   "id": "f65f3384",
   "metadata": {},
   "outputs": [
    {
     "data": {
      "text/plain": [
       "['The',\n",
       " 'Second',\n",
       " 'Punic',\n",
       " 'War',\n",
       " '(218–201',\n",
       " 'BC)',\n",
       " 'was',\n",
       " 'the',\n",
       " 'second',\n",
       " 'of',\n",
       " 'three',\n",
       " 'wars',\n",
       " 'fought',\n",
       " 'between',\n",
       " 'Carthage',\n",
       " 'and',\n",
       " 'Rome,',\n",
       " 'the',\n",
       " 'two',\n",
       " 'main',\n",
       " 'powers',\n",
       " 'of',\n",
       " 'the',\n",
       " 'western',\n",
       " 'Mediterranean',\n",
       " 'in',\n",
       " 'the',\n",
       " '3rd',\n",
       " 'century',\n",
       " 'BC.',\n",
       " 'For',\n",
       " '17',\n",
       " 'years',\n",
       " 'the',\n",
       " 'two',\n",
       " 'states',\n",
       " 'struggled',\n",
       " 'for',\n",
       " 'supremacy.',\n",
       " 'After',\n",
       " 'immense',\n",
       " 'materiel',\n",
       " 'and',\n",
       " 'human',\n",
       " 'losses',\n",
       " 'on',\n",
       " 'both',\n",
       " 'sides',\n",
       " 'the',\n",
       " 'Carthaginians',\n",
       " 'were',\n",
       " 'defeated.',\n",
       " 'Macedonia,',\n",
       " 'Syracuse',\n",
       " 'and',\n",
       " 'several',\n",
       " 'Numidian',\n",
       " 'kingdoms',\n",
       " 'were',\n",
       " 'drawn',\n",
       " 'into',\n",
       " 'the',\n",
       " 'fighting,',\n",
       " 'and',\n",
       " 'Iberian',\n",
       " 'and',\n",
       " 'Gallic',\n",
       " 'forces',\n",
       " 'fought',\n",
       " 'on',\n",
       " 'both',\n",
       " 'sides.',\n",
       " 'There',\n",
       " 'were',\n",
       " 'three',\n",
       " 'main',\n",
       " 'military',\n",
       " 'theatres',\n",
       " 'during',\n",
       " 'the',\n",
       " 'war:',\n",
       " 'Italy,',\n",
       " 'where',\n",
       " 'Hannibal',\n",
       " 'defeated',\n",
       " 'the',\n",
       " 'Roman',\n",
       " 'legions',\n",
       " 'repeatedly,',\n",
       " 'with',\n",
       " 'occasional',\n",
       " 'subsidiary',\n",
       " 'campaigns',\n",
       " 'on',\n",
       " 'the',\n",
       " 'islands',\n",
       " 'of',\n",
       " 'Sicily',\n",
       " 'and',\n",
       " 'Sardinia',\n",
       " 'and',\n",
       " 'in',\n",
       " 'Greece;',\n",
       " 'Iberia,',\n",
       " 'where',\n",
       " 'Hasdrubal,',\n",
       " 'a',\n",
       " 'younger',\n",
       " 'brother',\n",
       " 'of',\n",
       " 'Hannibal,',\n",
       " 'defended',\n",
       " 'the',\n",
       " 'Carthaginian',\n",
       " 'colonial',\n",
       " 'cities',\n",
       " 'with',\n",
       " 'mixed',\n",
       " 'success',\n",
       " 'before',\n",
       " 'moving',\n",
       " 'into',\n",
       " 'Italy;',\n",
       " 'and',\n",
       " 'North',\n",
       " 'Africa,',\n",
       " 'where',\n",
       " 'Rome',\n",
       " 'finally',\n",
       " 'won',\n",
       " 'the',\n",
       " 'war.',\n",
       " '']"
      ]
     },
     "execution_count": 5,
     "metadata": {},
     "output_type": "execute_result"
    }
   ],
   "source": [
    "big_text.split(' ')"
   ]
  },
  {
   "cell_type": "code",
   "execution_count": 7,
   "id": "8ad32055",
   "metadata": {},
   "outputs": [
    {
     "name": "stdout",
     "output_type": "stream",
     "text": [
      "The\n",
      "Second\n",
      "Punic\n",
      "War\n",
      "(218–201\n",
      "BC)\n",
      "was\n",
      "the\n",
      "second\n",
      "of\n",
      "three\n",
      "wars\n",
      "fought\n",
      "between\n",
      "Carthage\n",
      "and\n",
      "Rome,\n",
      "the\n",
      "two\n",
      "main\n",
      "powers\n",
      "of\n",
      "the\n",
      "western\n",
      "Mediterranean\n",
      "in\n",
      "the\n",
      "3rd\n",
      "century\n",
      "BC.\n",
      "For\n",
      "17\n",
      "years\n",
      "the\n",
      "two\n",
      "states\n",
      "struggled\n",
      "for\n",
      "supremacy.\n",
      "After\n",
      "immense\n",
      "materiel\n",
      "and\n",
      "human\n",
      "losses\n",
      "on\n",
      "both\n",
      "sides\n",
      "the\n",
      "Carthaginians\n",
      "were\n",
      "defeated.\n",
      "Macedonia,\n",
      "Syracuse\n",
      "and\n",
      "several\n",
      "Numidian\n",
      "kingdoms\n",
      "were\n",
      "drawn\n",
      "into\n",
      "the\n",
      "fighting,\n",
      "and\n",
      "Iberian\n",
      "and\n",
      "Gallic\n",
      "forces\n",
      "fought\n",
      "on\n",
      "both\n",
      "sides.\n",
      "There\n",
      "were\n",
      "three\n",
      "main\n",
      "military\n",
      "theatres\n",
      "during\n",
      "the\n",
      "war:\n",
      "Italy,\n",
      "where\n",
      "Hannibal\n",
      "defeated\n",
      "the\n",
      "Roman\n",
      "legions\n",
      "repeatedly,\n",
      "with\n",
      "occasional\n",
      "subsidiary\n",
      "campaigns\n",
      "on\n",
      "the\n",
      "islands\n",
      "of\n",
      "Sicily\n",
      "and\n",
      "Sardinia\n",
      "and\n",
      "in\n",
      "Greece;\n",
      "Iberia,\n",
      "where\n",
      "Hasdrubal,\n",
      "a\n",
      "younger\n",
      "brother\n",
      "of\n",
      "Hannibal,\n",
      "defended\n",
      "the\n",
      "Carthaginian\n",
      "colonial\n",
      "cities\n",
      "with\n",
      "mixed\n",
      "success\n",
      "before\n",
      "moving\n",
      "into\n",
      "Italy;\n",
      "and\n",
      "North\n",
      "Africa,\n",
      "where\n",
      "Rome\n",
      "finally\n",
      "won\n",
      "the\n",
      "war.\n",
      "\n"
     ]
    }
   ],
   "source": [
    "for i in big_text.split(' '):\n",
    "    print(i)"
   ]
  },
  {
   "cell_type": "code",
   "execution_count": 13,
   "id": "4ac1770e",
   "metadata": {},
   "outputs": [
    {
     "name": "stdout",
     "output_type": "stream",
     "text": [
      "something\n",
      "something\n",
      "something\n",
      "something\n",
      "something\n",
      "something\n",
      "something\n",
      "something\n",
      "something\n",
      "something\n",
      "something\n",
      "something\n",
      "something\n"
     ]
    }
   ],
   "source": [
    "for i in big_text.split(' '):\n",
    "    if i == 'The' or i == 'THE' or i == 'the':\n",
    "        print('something')"
   ]
  },
  {
   "cell_type": "code",
   "execution_count": 20,
   "id": "7c4587e4",
   "metadata": {},
   "outputs": [
    {
     "data": {
      "text/plain": [
       "'a Second Punic War (218–201 BC) was a second of three wars fought between Carthage and Rome, a two main powers of a western Mediterranean in a 3rd century BC. For 17 years a two states struggled for supremacy. After immense materiel and human losses on both sides a Carthaginians were defeated. Macedonia, Syracuse and several Numidian kingdoms were drawn into a fighting, and Iberian and Gallic forces fought on both sides. are were three main military aatres during a war: Italy, where Hannibal defeated a Roman legions repeatedly, with occasional subsidiary campaigns on a islands of Sicily and Sardinia and in Greece; Iberia, where Hasdrubal, a younger broar of Hannibal, defended a Carthaginian colonial cities with mixed success before moving into Italy; and North Africa, where Rome finally won a war. '"
      ]
     },
     "execution_count": 20,
     "metadata": {},
     "output_type": "execute_result"
    }
   ],
   "source": [
    "big_text.replace('The', 'a').replace('THE', 'a').replace('the','a')"
   ]
  },
  {
   "cell_type": "code",
   "execution_count": null,
   "id": "242cb41b",
   "metadata": {},
   "outputs": [],
   "source": []
  },
  {
   "cell_type": "code",
   "execution_count": null,
   "id": "9d24c1ab",
   "metadata": {},
   "outputs": [],
   "source": []
  },
  {
   "cell_type": "code",
   "execution_count": 105,
   "id": "835bcd84",
   "metadata": {},
   "outputs": [
    {
     "ename": "NameError",
     "evalue": "name 'Print' is not defined",
     "output_type": "error",
     "traceback": [
      "\u001b[1;31m---------------------------------------------------------------------------\u001b[0m",
      "\u001b[1;31mNameError\u001b[0m                                 Traceback (most recent call last)",
      "\u001b[1;32m~\\AppData\\Local\\Temp\\ipykernel_6168\\1321364949.py\u001b[0m in \u001b[0;36m<module>\u001b[1;34m\u001b[0m\n\u001b[0;32m      3\u001b[0m     \u001b[0mThe\u001b[0m\u001b[1;33m=\u001b[0m\u001b[1;34m\"a\"\u001b[0m\u001b[1;33m\u001b[0m\u001b[1;33m\u001b[0m\u001b[0m\n\u001b[0;32m      4\u001b[0m     \u001b[0mTHE\u001b[0m\u001b[1;33m=\u001b[0m\u001b[1;34m\"a\"\u001b[0m\u001b[1;33m\u001b[0m\u001b[1;33m\u001b[0m\u001b[0m\n\u001b[1;32m----> 5\u001b[1;33m     \u001b[0mPrint\u001b[0m\u001b[1;33m(\u001b[0m\u001b[0mbig_text\u001b[0m\u001b[1;33m)\u001b[0m\u001b[1;33m\u001b[0m\u001b[1;33m\u001b[0m\u001b[0m\n\u001b[0m\u001b[0;32m      6\u001b[0m \u001b[1;33m\u001b[0m\u001b[0m\n\u001b[0;32m      7\u001b[0m \u001b[1;33m\u001b[0m\u001b[0m\n",
      "\u001b[1;31mNameError\u001b[0m: name 'Print' is not defined"
     ]
    }
   ],
   "source": [
    "for i in big_text:\n",
    "    the=\"a\"\n",
    "    The=\"a\"\n",
    "    THE=\"a\"\n",
    "    Print(big_text)\n",
    "\n",
    "        "
   ]
  },
  {
   "cell_type": "code",
   "execution_count": 107,
   "id": "4134f447",
   "metadata": {},
   "outputs": [
    {
     "name": "stdout",
     "output_type": "stream",
     "text": [
      "The Second Punic War (218–201 BC) was the second of three wars fought between Carthage and Rome, the two main powers of the western Mediterranean in the 3rd century BC. For 17 years the two states struggled for supremacy. After immense materiel and human losses on both sides the Carthaginians were defeated. Macedonia, Syracuse and several Numidian kingdoms were drawn into the fighting, and Iberian and Gallic forces fought on both sides. There were three main military theatres during the war: Italy, where Hannibal defeated the Roman legions repeatedly, with occasional subsidiary campaigns on the islands of Sicily and Sardinia and in Greece; Iberia, where Hasdrubal, a younger brother of Hannibal, defended the Carthaginian colonial cities with mixed success before moving into Italy; and North Africa, where Rome finally won the war. \n"
     ]
    }
   ],
   "source": [
    "the = \"a\"\n",
    "The = \"a\"\n",
    "THE = \"a\"\n",
    "print(big_text)"
   ]
  },
  {
   "cell_type": "code",
   "execution_count": 109,
   "id": "83f10b68",
   "metadata": {},
   "outputs": [
    {
     "name": "stdout",
     "output_type": "stream",
     "text": [
      "The Second Punic War (218–201 BC) was the second of three wars fought between Carthage and Rome, the two main powers of the western Mediterranean in the 3rd century BC. For 17 years the two states struggled for supremacy. After immense materiel and human losses on both sides the Carthaginians were defeated. Macedonia, Syracuse and several Numidian kingdoms were drawn into the fighting, and Iberian and Gallic forces fought on both sides. There were three main military theatres during the war: Italy, where Hannibal defeated the Roman legions repeatedly, with occasional subsidiary campaigns on the islands of Sicily and Sardinia and in Greece; Iberia, where Hasdrubal, a younger brother of Hannibal, defended the Carthaginian colonial cities with mixed success before moving into Italy; and North Africa, where Rome finally won the war. \n"
     ]
    }
   ],
   "source": [
    "if i in big_text:\n",
    "    the = \"a\"\n",
    "    The = \"a\"\n",
    "    THE = \"a\"\n",
    "    print(big_text)\n",
    "    "
   ]
  },
  {
   "cell_type": "code",
   "execution_count": 113,
   "id": "f08e5160",
   "metadata": {},
   "outputs": [
    {
     "name": "stdout",
     "output_type": "stream",
     "text": [
      "a\n"
     ]
    }
   ],
   "source": [
    "if i in big_text == the or The or THE:\n",
    "    print(\"a\")"
   ]
  },
  {
   "cell_type": "code",
   "execution_count": 118,
   "id": "b9e29b91",
   "metadata": {},
   "outputs": [
    {
     "ename": "SyntaxError",
     "evalue": "invalid syntax (3217591471.py, line 3)",
     "output_type": "error",
     "traceback": [
      "\u001b[1;36m  File \u001b[1;32m\"C:\\Users\\akank\\AppData\\Local\\Temp\\ipykernel_6168\\3217591471.py\"\u001b[1;36m, line \u001b[1;32m3\u001b[0m\n\u001b[1;33m    then:\u001b[0m\n\u001b[1;37m         ^\u001b[0m\n\u001b[1;31mSyntaxError\u001b[0m\u001b[1;31m:\u001b[0m invalid syntax\n"
     ]
    }
   ],
   "source": [
    "for i in big_text:\n",
    "    if i == the or The or THE:\n",
    "        then:\n",
    "            i = \"a\"\n",
    "print(big_text)"
   ]
  },
  {
   "cell_type": "code",
   "execution_count": 120,
   "id": "5d044a05",
   "metadata": {},
   "outputs": [
    {
     "name": "stdout",
     "output_type": "stream",
     "text": [
      "a\n"
     ]
    }
   ],
   "source": [
    "for i in big_text:\n",
    "    if i == the or The or THE:\n",
    "        i = \"a\"\n",
    "print(i)"
   ]
  },
  {
   "cell_type": "markdown",
   "id": "c412c0c4",
   "metadata": {},
   "source": [
    "### Question 7\n",
    "Reverse the string"
   ]
  },
  {
   "cell_type": "code",
   "execution_count": 55,
   "id": "dcc8f746",
   "metadata": {},
   "outputs": [],
   "source": [
    "txt = \"Hello World\""
   ]
  },
  {
   "cell_type": "code",
   "execution_count": 92,
   "id": "ea966a03",
   "metadata": {
    "scrolled": true
   },
   "outputs": [
    {
     "data": {
      "text/plain": [
       "'Hello Worl'"
      ]
     },
     "execution_count": 92,
     "metadata": {},
     "output_type": "execute_result"
    }
   ],
   "source": [
    "txt[:-1]\n",
    "    "
   ]
  },
  {
   "cell_type": "code",
   "execution_count": 94,
   "id": "d5720b1d",
   "metadata": {},
   "outputs": [
    {
     "data": {
      "text/plain": [
       "''"
      ]
     },
     "execution_count": 94,
     "metadata": {},
     "output_type": "execute_result"
    }
   ],
   "source": [
    "txt[-1:-11]"
   ]
  },
  {
   "cell_type": "code",
   "execution_count": 96,
   "id": "95971f76",
   "metadata": {},
   "outputs": [
    {
     "data": {
      "text/plain": [
       "'d'"
      ]
     },
     "execution_count": 96,
     "metadata": {},
     "output_type": "execute_result"
    }
   ],
   "source": [
    "txt[-1:]"
   ]
  },
  {
   "cell_type": "code",
   "execution_count": 99,
   "id": "9c588206",
   "metadata": {},
   "outputs": [
    {
     "data": {
      "text/plain": [
       "'Hello World'"
      ]
     },
     "execution_count": 99,
     "metadata": {},
     "output_type": "execute_result"
    }
   ],
   "source": [
    "txt[:]"
   ]
  },
  {
   "cell_type": "code",
   "execution_count": 102,
   "id": "9e538f6c",
   "metadata": {},
   "outputs": [
    {
     "data": {
      "text/plain": [
       "'Hello Worl'"
      ]
     },
     "execution_count": 102,
     "metadata": {},
     "output_type": "execute_result"
    }
   ],
   "source": [
    "txt[:-1]"
   ]
  },
  {
   "cell_type": "code",
   "execution_count": 126,
   "id": "0103ab0b",
   "metadata": {},
   "outputs": [
    {
     "data": {
      "text/plain": [
       "'Hello World'"
      ]
     },
     "execution_count": 126,
     "metadata": {},
     "output_type": "execute_result"
    }
   ],
   "source": [
    "txt[::]"
   ]
  },
  {
   "cell_type": "code",
   "execution_count": 125,
   "id": "c23f81c7",
   "metadata": {},
   "outputs": [
    {
     "data": {
      "text/plain": [
       "'Hor'"
      ]
     },
     "execution_count": 125,
     "metadata": {},
     "output_type": "execute_result"
    }
   ],
   "source": [
    "\n",
    "\n",
    "txt[::4]\n",
    "#checked to understand the concept and realized that In python the slice sequence is defined as[start:stop:step], step is the increment/decrement value. So if I define step as -1 it means that the python will start and stop accordingly to the string defined, however it'll give out every -1 position i.e, it'll give output as 'dlro..', i.e., reversed string."
   ]
  },
  {
   "cell_type": "code",
   "execution_count": 127,
   "id": "094221b2",
   "metadata": {},
   "outputs": [
    {
     "data": {
      "text/plain": [
       "'dlroW olleH'"
      ]
     },
     "execution_count": 127,
     "metadata": {},
     "output_type": "execute_result"
    }
   ],
   "source": [
    "txt[::-1]"
   ]
  },
  {
   "cell_type": "markdown",
   "id": "c6fe0496",
   "metadata": {},
   "source": [
    "#### Answer"
   ]
  },
  {
   "cell_type": "markdown",
   "id": "bf1f91c7",
   "metadata": {},
   "source": [
    "### Question 8\n",
    "Add 2 strings with space in between, create and save in a new variable string_3"
   ]
  },
  {
   "cell_type": "code",
   "execution_count": 69,
   "id": "03f07279",
   "metadata": {},
   "outputs": [],
   "source": [
    "string_1 = \"Hello\"\n",
    "string_2 = \"World\""
   ]
  },
  {
   "cell_type": "code",
   "execution_count": 70,
   "id": "0d621ea9",
   "metadata": {},
   "outputs": [
    {
     "name": "stdout",
     "output_type": "stream",
     "text": [
      "Hello World\n"
     ]
    }
   ],
   "source": [
    "string_3 = string_1 +\" \"+ string_2\n",
    "print(string_3)"
   ]
  },
  {
   "cell_type": "code",
   "execution_count": null,
   "id": "8ebf0336",
   "metadata": {},
   "outputs": [],
   "source": []
  }
 ],
 "metadata": {
  "kernelspec": {
   "display_name": "Python 3 (ipykernel)",
   "language": "python",
   "name": "python3"
  },
  "language_info": {
   "codemirror_mode": {
    "name": "ipython",
    "version": 3
   },
   "file_extension": ".py",
   "mimetype": "text/x-python",
   "name": "python",
   "nbconvert_exporter": "python",
   "pygments_lexer": "ipython3",
   "version": "3.9.13"
  }
 },
 "nbformat": 4,
 "nbformat_minor": 5
}
