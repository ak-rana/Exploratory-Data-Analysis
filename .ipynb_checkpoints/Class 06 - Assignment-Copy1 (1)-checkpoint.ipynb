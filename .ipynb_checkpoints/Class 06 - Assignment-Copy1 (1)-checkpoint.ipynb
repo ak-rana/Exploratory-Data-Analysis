{
 "cells": [
  {
   "cell_type": "markdown",
   "id": "8b37422f",
   "metadata": {},
   "source": [
    "# Assignment\n"
   ]
  },
  {
   "cell_type": "markdown",
   "id": "26c1363e",
   "metadata": {},
   "source": [
    "You have already picked out the dataset you want to work with. If you have not, you can use this dataset [here](https://www.kaggle.com/datasets/blastchar/telco-customer-churn). \n",
    "\n",
    "----\n",
    "\n",
    "# Question \n",
    "1. EDA, i want to see some insights, present it neatly. \n",
    "2. Fit a Decision Tree model on your data. \n",
    "3. I want to see the training and testing accuracy of your model. So do split your data before modelling.\n",
    "\n",
    "\n",
    "### Brownie Points (Extra 15 points)\n",
    "- Lastly, i want to see a function where i can input my values and get a prediction of whatever you are trying to predict. Think this through !!.\n",
    "\n",
    "\n",
    "\n",
    "Best of luck !!\n",
    "\n",
    "![](https://media.tenor.com/J6BNrGi_wv8AAAAC/funny-meme.gif)\n"
   ]
  },
  {
   "cell_type": "code",
   "execution_count": 71,
   "id": "704dbe5f",
   "metadata": {},
   "outputs": [],
   "source": [
    "import pandas as pd\n",
    "from sklearn import preprocessing\n",
    "from sklearn.tree import DecisionTreeClassifier\n",
    "from sklearn.tree import DecisionTreeRegressor \n",
    "from sklearn.tree import DecisionTreeClassifier\n",
    "from sklearn import preprocessing\n",
    "le = preprocessing.LabelEncoder()\n",
    "import seaborn as sns\n",
    "import matplotlib.pyplot as plt"
   ]
  },
  {
   "cell_type": "code",
   "execution_count": 72,
   "id": "5410beb0",
   "metadata": {},
   "outputs": [],
   "source": [
    "df=pd.read_csv(\"Weather dataset dated.csv\").iloc[1:26328]"
   ]
  },
  {
   "cell_type": "code",
   "execution_count": 73,
   "id": "62c96a13",
   "metadata": {},
   "outputs": [
    {
     "data": {
      "text/plain": [
       "1        0\n",
       "2        0\n",
       "3        0\n",
       "4        0\n",
       "5        0\n",
       "        ..\n",
       "26323    0\n",
       "26324    0\n",
       "26325    0\n",
       "26326    0\n",
       "26327    0\n",
       "Name: Loud Cover, Length: 26327, dtype: int64"
      ]
     },
     "execution_count": 73,
     "metadata": {},
     "output_type": "execute_result"
    }
   ],
   "source": [
    "df['Year']=df['Year'].astype('int')\n",
    "df['Month']=df['Month'].astype('int')\n",
    "df=df.dropna()\n",
    "df.pop('Loud Cover')"
   ]
  },
  {
   "cell_type": "code",
   "execution_count": 5,
   "id": "7decd62c",
   "metadata": {
    "scrolled": true
   },
   "outputs": [
    {
     "data": {
      "text/html": [
       "<div>\n",
       "<style scoped>\n",
       "    .dataframe tbody tr th:only-of-type {\n",
       "        vertical-align: middle;\n",
       "    }\n",
       "\n",
       "    .dataframe tbody tr th {\n",
       "        vertical-align: top;\n",
       "    }\n",
       "\n",
       "    .dataframe thead th {\n",
       "        text-align: right;\n",
       "    }\n",
       "</style>\n",
       "<table border=\"1\" class=\"dataframe\">\n",
       "  <thead>\n",
       "    <tr style=\"text-align: right;\">\n",
       "      <th></th>\n",
       "      <th>Year</th>\n",
       "      <th>Month</th>\n",
       "      <th>Summary</th>\n",
       "      <th>Precip Type</th>\n",
       "      <th>Temperature (C)</th>\n",
       "      <th>Apparent Temperature (C)</th>\n",
       "      <th>Humidity</th>\n",
       "      <th>Wind Speed (km/h)</th>\n",
       "      <th>Wind Bearing (degrees)</th>\n",
       "      <th>Visibility (km)</th>\n",
       "      <th>Pressure (millibars)</th>\n",
       "      <th>Daily Summary</th>\n",
       "    </tr>\n",
       "  </thead>\n",
       "  <tbody>\n",
       "    <tr>\n",
       "      <th>1</th>\n",
       "      <td>2006</td>\n",
       "      <td>4</td>\n",
       "      <td>Partly Cloudy</td>\n",
       "      <td>rain</td>\n",
       "      <td>9.355556</td>\n",
       "      <td>7.227778</td>\n",
       "      <td>0.86</td>\n",
       "      <td>14.2646</td>\n",
       "      <td>259</td>\n",
       "      <td>15.8263</td>\n",
       "      <td>1015.63</td>\n",
       "      <td>Partly cloudy throughout the day.</td>\n",
       "    </tr>\n",
       "    <tr>\n",
       "      <th>2</th>\n",
       "      <td>2006</td>\n",
       "      <td>4</td>\n",
       "      <td>Mostly Cloudy</td>\n",
       "      <td>rain</td>\n",
       "      <td>9.377778</td>\n",
       "      <td>9.377778</td>\n",
       "      <td>0.89</td>\n",
       "      <td>3.9284</td>\n",
       "      <td>204</td>\n",
       "      <td>14.9569</td>\n",
       "      <td>1015.94</td>\n",
       "      <td>Partly cloudy throughout the day.</td>\n",
       "    </tr>\n",
       "    <tr>\n",
       "      <th>3</th>\n",
       "      <td>2006</td>\n",
       "      <td>4</td>\n",
       "      <td>Partly Cloudy</td>\n",
       "      <td>rain</td>\n",
       "      <td>8.288889</td>\n",
       "      <td>5.944444</td>\n",
       "      <td>0.83</td>\n",
       "      <td>14.1036</td>\n",
       "      <td>269</td>\n",
       "      <td>15.8263</td>\n",
       "      <td>1016.41</td>\n",
       "      <td>Partly cloudy throughout the day.</td>\n",
       "    </tr>\n",
       "    <tr>\n",
       "      <th>4</th>\n",
       "      <td>2006</td>\n",
       "      <td>4</td>\n",
       "      <td>Mostly Cloudy</td>\n",
       "      <td>rain</td>\n",
       "      <td>8.755556</td>\n",
       "      <td>6.977778</td>\n",
       "      <td>0.83</td>\n",
       "      <td>11.0446</td>\n",
       "      <td>259</td>\n",
       "      <td>15.8263</td>\n",
       "      <td>1016.51</td>\n",
       "      <td>Partly cloudy throughout the day.</td>\n",
       "    </tr>\n",
       "    <tr>\n",
       "      <th>5</th>\n",
       "      <td>2006</td>\n",
       "      <td>4</td>\n",
       "      <td>Partly Cloudy</td>\n",
       "      <td>rain</td>\n",
       "      <td>9.222222</td>\n",
       "      <td>7.111111</td>\n",
       "      <td>0.85</td>\n",
       "      <td>13.9587</td>\n",
       "      <td>258</td>\n",
       "      <td>14.9569</td>\n",
       "      <td>1016.66</td>\n",
       "      <td>Partly cloudy throughout the day.</td>\n",
       "    </tr>\n",
       "    <tr>\n",
       "      <th>...</th>\n",
       "      <td>...</td>\n",
       "      <td>...</td>\n",
       "      <td>...</td>\n",
       "      <td>...</td>\n",
       "      <td>...</td>\n",
       "      <td>...</td>\n",
       "      <td>...</td>\n",
       "      <td>...</td>\n",
       "      <td>...</td>\n",
       "      <td>...</td>\n",
       "      <td>...</td>\n",
       "      <td>...</td>\n",
       "    </tr>\n",
       "    <tr>\n",
       "      <th>26323</th>\n",
       "      <td>2008</td>\n",
       "      <td>9</td>\n",
       "      <td>Partly Cloudy</td>\n",
       "      <td>rain</td>\n",
       "      <td>21.083333</td>\n",
       "      <td>21.083333</td>\n",
       "      <td>0.50</td>\n",
       "      <td>8.9999</td>\n",
       "      <td>351</td>\n",
       "      <td>9.9820</td>\n",
       "      <td>1019.77</td>\n",
       "      <td>Partly cloudy starting in the morning continui...</td>\n",
       "    </tr>\n",
       "    <tr>\n",
       "      <th>26324</th>\n",
       "      <td>2008</td>\n",
       "      <td>9</td>\n",
       "      <td>Clear</td>\n",
       "      <td>rain</td>\n",
       "      <td>18.950000</td>\n",
       "      <td>18.950000</td>\n",
       "      <td>0.61</td>\n",
       "      <td>4.5885</td>\n",
       "      <td>16</td>\n",
       "      <td>10.3523</td>\n",
       "      <td>1020.28</td>\n",
       "      <td>Partly cloudy starting in the morning continui...</td>\n",
       "    </tr>\n",
       "    <tr>\n",
       "      <th>26325</th>\n",
       "      <td>2008</td>\n",
       "      <td>9</td>\n",
       "      <td>Clear</td>\n",
       "      <td>rain</td>\n",
       "      <td>17.127778</td>\n",
       "      <td>17.127778</td>\n",
       "      <td>0.68</td>\n",
       "      <td>1.5295</td>\n",
       "      <td>30</td>\n",
       "      <td>9.9820</td>\n",
       "      <td>1020.47</td>\n",
       "      <td>Partly cloudy starting in the morning continui...</td>\n",
       "    </tr>\n",
       "    <tr>\n",
       "      <th>26326</th>\n",
       "      <td>2008</td>\n",
       "      <td>9</td>\n",
       "      <td>Clear</td>\n",
       "      <td>rain</td>\n",
       "      <td>15.488889</td>\n",
       "      <td>15.488889</td>\n",
       "      <td>0.76</td>\n",
       "      <td>0.0000</td>\n",
       "      <td>0</td>\n",
       "      <td>15.8263</td>\n",
       "      <td>1020.68</td>\n",
       "      <td>Partly cloudy starting in the morning continui...</td>\n",
       "    </tr>\n",
       "    <tr>\n",
       "      <th>26327</th>\n",
       "      <td>2008</td>\n",
       "      <td>9</td>\n",
       "      <td>Clear</td>\n",
       "      <td>rain</td>\n",
       "      <td>14.261111</td>\n",
       "      <td>14.261111</td>\n",
       "      <td>0.79</td>\n",
       "      <td>4.1538</td>\n",
       "      <td>352</td>\n",
       "      <td>14.9569</td>\n",
       "      <td>1021.01</td>\n",
       "      <td>Partly cloudy starting in the morning continui...</td>\n",
       "    </tr>\n",
       "  </tbody>\n",
       "</table>\n",
       "<p>26327 rows × 12 columns</p>\n",
       "</div>"
      ],
      "text/plain": [
       "       Year  Month        Summary Precip Type  Temperature (C)  \\\n",
       "1      2006      4  Partly Cloudy        rain         9.355556   \n",
       "2      2006      4  Mostly Cloudy        rain         9.377778   \n",
       "3      2006      4  Partly Cloudy        rain         8.288889   \n",
       "4      2006      4  Mostly Cloudy        rain         8.755556   \n",
       "5      2006      4  Partly Cloudy        rain         9.222222   \n",
       "...     ...    ...            ...         ...              ...   \n",
       "26323  2008      9  Partly Cloudy        rain        21.083333   \n",
       "26324  2008      9          Clear        rain        18.950000   \n",
       "26325  2008      9          Clear        rain        17.127778   \n",
       "26326  2008      9          Clear        rain        15.488889   \n",
       "26327  2008      9          Clear        rain        14.261111   \n",
       "\n",
       "       Apparent Temperature (C)  Humidity  Wind Speed (km/h)  \\\n",
       "1                      7.227778      0.86            14.2646   \n",
       "2                      9.377778      0.89             3.9284   \n",
       "3                      5.944444      0.83            14.1036   \n",
       "4                      6.977778      0.83            11.0446   \n",
       "5                      7.111111      0.85            13.9587   \n",
       "...                         ...       ...                ...   \n",
       "26323                 21.083333      0.50             8.9999   \n",
       "26324                 18.950000      0.61             4.5885   \n",
       "26325                 17.127778      0.68             1.5295   \n",
       "26326                 15.488889      0.76             0.0000   \n",
       "26327                 14.261111      0.79             4.1538   \n",
       "\n",
       "       Wind Bearing (degrees)  Visibility (km)  Pressure (millibars)  \\\n",
       "1                         259          15.8263               1015.63   \n",
       "2                         204          14.9569               1015.94   \n",
       "3                         269          15.8263               1016.41   \n",
       "4                         259          15.8263               1016.51   \n",
       "5                         258          14.9569               1016.66   \n",
       "...                       ...              ...                   ...   \n",
       "26323                     351           9.9820               1019.77   \n",
       "26324                      16          10.3523               1020.28   \n",
       "26325                      30           9.9820               1020.47   \n",
       "26326                       0          15.8263               1020.68   \n",
       "26327                     352          14.9569               1021.01   \n",
       "\n",
       "                                           Daily Summary  \n",
       "1                      Partly cloudy throughout the day.  \n",
       "2                      Partly cloudy throughout the day.  \n",
       "3                      Partly cloudy throughout the day.  \n",
       "4                      Partly cloudy throughout the day.  \n",
       "5                      Partly cloudy throughout the day.  \n",
       "...                                                  ...  \n",
       "26323  Partly cloudy starting in the morning continui...  \n",
       "26324  Partly cloudy starting in the morning continui...  \n",
       "26325  Partly cloudy starting in the morning continui...  \n",
       "26326  Partly cloudy starting in the morning continui...  \n",
       "26327  Partly cloudy starting in the morning continui...  \n",
       "\n",
       "[26327 rows x 12 columns]"
      ]
     },
     "execution_count": 5,
     "metadata": {},
     "output_type": "execute_result"
    }
   ],
   "source": [
    "df"
   ]
  },
  {
   "cell_type": "code",
   "execution_count": 5,
   "id": "d606cd00",
   "metadata": {},
   "outputs": [],
   "source": [
    "col_list = ['Summary','Precip Type','Daily Summary']"
   ]
  },
  {
   "cell_type": "code",
   "execution_count": 6,
   "id": "31415b4c",
   "metadata": {},
   "outputs": [],
   "source": [
    "for i in col_list:\n",
    "    df[i] = le.fit_transform(df[i])"
   ]
  },
  {
   "cell_type": "code",
   "execution_count": 7,
   "id": "29aeb4bd",
   "metadata": {},
   "outputs": [
    {
     "data": {
      "text/html": [
       "<div>\n",
       "<style scoped>\n",
       "    .dataframe tbody tr th:only-of-type {\n",
       "        vertical-align: middle;\n",
       "    }\n",
       "\n",
       "    .dataframe tbody tr th {\n",
       "        vertical-align: top;\n",
       "    }\n",
       "\n",
       "    .dataframe thead th {\n",
       "        text-align: right;\n",
       "    }\n",
       "</style>\n",
       "<table border=\"1\" class=\"dataframe\">\n",
       "  <thead>\n",
       "    <tr style=\"text-align: right;\">\n",
       "      <th></th>\n",
       "      <th>Year</th>\n",
       "      <th>Month</th>\n",
       "      <th>Summary</th>\n",
       "      <th>Precip Type</th>\n",
       "      <th>Temperature (C)</th>\n",
       "      <th>Apparent Temperature (C)</th>\n",
       "      <th>Humidity</th>\n",
       "      <th>Wind Speed (km/h)</th>\n",
       "      <th>Wind Bearing (degrees)</th>\n",
       "      <th>Visibility (km)</th>\n",
       "      <th>Pressure (millibars)</th>\n",
       "      <th>Daily Summary</th>\n",
       "    </tr>\n",
       "  </thead>\n",
       "  <tbody>\n",
       "    <tr>\n",
       "      <th>1</th>\n",
       "      <td>2006</td>\n",
       "      <td>4</td>\n",
       "      <td>14</td>\n",
       "      <td>0</td>\n",
       "      <td>9.355556</td>\n",
       "      <td>7.227778</td>\n",
       "      <td>0.86</td>\n",
       "      <td>14.2646</td>\n",
       "      <td>259</td>\n",
       "      <td>15.8263</td>\n",
       "      <td>1015.63</td>\n",
       "      <td>107</td>\n",
       "    </tr>\n",
       "    <tr>\n",
       "      <th>2</th>\n",
       "      <td>2006</td>\n",
       "      <td>4</td>\n",
       "      <td>12</td>\n",
       "      <td>0</td>\n",
       "      <td>9.377778</td>\n",
       "      <td>9.377778</td>\n",
       "      <td>0.89</td>\n",
       "      <td>3.9284</td>\n",
       "      <td>204</td>\n",
       "      <td>14.9569</td>\n",
       "      <td>1015.94</td>\n",
       "      <td>107</td>\n",
       "    </tr>\n",
       "    <tr>\n",
       "      <th>3</th>\n",
       "      <td>2006</td>\n",
       "      <td>4</td>\n",
       "      <td>14</td>\n",
       "      <td>0</td>\n",
       "      <td>8.288889</td>\n",
       "      <td>5.944444</td>\n",
       "      <td>0.83</td>\n",
       "      <td>14.1036</td>\n",
       "      <td>269</td>\n",
       "      <td>15.8263</td>\n",
       "      <td>1016.41</td>\n",
       "      <td>107</td>\n",
       "    </tr>\n",
       "    <tr>\n",
       "      <th>4</th>\n",
       "      <td>2006</td>\n",
       "      <td>4</td>\n",
       "      <td>12</td>\n",
       "      <td>0</td>\n",
       "      <td>8.755556</td>\n",
       "      <td>6.977778</td>\n",
       "      <td>0.83</td>\n",
       "      <td>11.0446</td>\n",
       "      <td>259</td>\n",
       "      <td>15.8263</td>\n",
       "      <td>1016.51</td>\n",
       "      <td>107</td>\n",
       "    </tr>\n",
       "    <tr>\n",
       "      <th>5</th>\n",
       "      <td>2006</td>\n",
       "      <td>4</td>\n",
       "      <td>14</td>\n",
       "      <td>0</td>\n",
       "      <td>9.222222</td>\n",
       "      <td>7.111111</td>\n",
       "      <td>0.85</td>\n",
       "      <td>13.9587</td>\n",
       "      <td>258</td>\n",
       "      <td>14.9569</td>\n",
       "      <td>1016.66</td>\n",
       "      <td>107</td>\n",
       "    </tr>\n",
       "    <tr>\n",
       "      <th>...</th>\n",
       "      <td>...</td>\n",
       "      <td>...</td>\n",
       "      <td>...</td>\n",
       "      <td>...</td>\n",
       "      <td>...</td>\n",
       "      <td>...</td>\n",
       "      <td>...</td>\n",
       "      <td>...</td>\n",
       "      <td>...</td>\n",
       "      <td>...</td>\n",
       "      <td>...</td>\n",
       "      <td>...</td>\n",
       "    </tr>\n",
       "    <tr>\n",
       "      <th>26323</th>\n",
       "      <td>2008</td>\n",
       "      <td>9</td>\n",
       "      <td>14</td>\n",
       "      <td>0</td>\n",
       "      <td>21.083333</td>\n",
       "      <td>21.083333</td>\n",
       "      <td>0.50</td>\n",
       "      <td>8.9999</td>\n",
       "      <td>351</td>\n",
       "      <td>9.9820</td>\n",
       "      <td>1019.77</td>\n",
       "      <td>87</td>\n",
       "    </tr>\n",
       "    <tr>\n",
       "      <th>26324</th>\n",
       "      <td>2008</td>\n",
       "      <td>9</td>\n",
       "      <td>5</td>\n",
       "      <td>0</td>\n",
       "      <td>18.950000</td>\n",
       "      <td>18.950000</td>\n",
       "      <td>0.61</td>\n",
       "      <td>4.5885</td>\n",
       "      <td>16</td>\n",
       "      <td>10.3523</td>\n",
       "      <td>1020.28</td>\n",
       "      <td>87</td>\n",
       "    </tr>\n",
       "    <tr>\n",
       "      <th>26325</th>\n",
       "      <td>2008</td>\n",
       "      <td>9</td>\n",
       "      <td>5</td>\n",
       "      <td>0</td>\n",
       "      <td>17.127778</td>\n",
       "      <td>17.127778</td>\n",
       "      <td>0.68</td>\n",
       "      <td>1.5295</td>\n",
       "      <td>30</td>\n",
       "      <td>9.9820</td>\n",
       "      <td>1020.47</td>\n",
       "      <td>87</td>\n",
       "    </tr>\n",
       "    <tr>\n",
       "      <th>26326</th>\n",
       "      <td>2008</td>\n",
       "      <td>9</td>\n",
       "      <td>5</td>\n",
       "      <td>0</td>\n",
       "      <td>15.488889</td>\n",
       "      <td>15.488889</td>\n",
       "      <td>0.76</td>\n",
       "      <td>0.0000</td>\n",
       "      <td>0</td>\n",
       "      <td>15.8263</td>\n",
       "      <td>1020.68</td>\n",
       "      <td>87</td>\n",
       "    </tr>\n",
       "    <tr>\n",
       "      <th>26327</th>\n",
       "      <td>2008</td>\n",
       "      <td>9</td>\n",
       "      <td>5</td>\n",
       "      <td>0</td>\n",
       "      <td>14.261111</td>\n",
       "      <td>14.261111</td>\n",
       "      <td>0.79</td>\n",
       "      <td>4.1538</td>\n",
       "      <td>352</td>\n",
       "      <td>14.9569</td>\n",
       "      <td>1021.01</td>\n",
       "      <td>87</td>\n",
       "    </tr>\n",
       "  </tbody>\n",
       "</table>\n",
       "<p>26327 rows × 12 columns</p>\n",
       "</div>"
      ],
      "text/plain": [
       "       Year  Month  Summary  Precip Type  Temperature (C)  \\\n",
       "1      2006      4       14            0         9.355556   \n",
       "2      2006      4       12            0         9.377778   \n",
       "3      2006      4       14            0         8.288889   \n",
       "4      2006      4       12            0         8.755556   \n",
       "5      2006      4       14            0         9.222222   \n",
       "...     ...    ...      ...          ...              ...   \n",
       "26323  2008      9       14            0        21.083333   \n",
       "26324  2008      9        5            0        18.950000   \n",
       "26325  2008      9        5            0        17.127778   \n",
       "26326  2008      9        5            0        15.488889   \n",
       "26327  2008      9        5            0        14.261111   \n",
       "\n",
       "       Apparent Temperature (C)  Humidity  Wind Speed (km/h)  \\\n",
       "1                      7.227778      0.86            14.2646   \n",
       "2                      9.377778      0.89             3.9284   \n",
       "3                      5.944444      0.83            14.1036   \n",
       "4                      6.977778      0.83            11.0446   \n",
       "5                      7.111111      0.85            13.9587   \n",
       "...                         ...       ...                ...   \n",
       "26323                 21.083333      0.50             8.9999   \n",
       "26324                 18.950000      0.61             4.5885   \n",
       "26325                 17.127778      0.68             1.5295   \n",
       "26326                 15.488889      0.76             0.0000   \n",
       "26327                 14.261111      0.79             4.1538   \n",
       "\n",
       "       Wind Bearing (degrees)  Visibility (km)  Pressure (millibars)  \\\n",
       "1                         259          15.8263               1015.63   \n",
       "2                         204          14.9569               1015.94   \n",
       "3                         269          15.8263               1016.41   \n",
       "4                         259          15.8263               1016.51   \n",
       "5                         258          14.9569               1016.66   \n",
       "...                       ...              ...                   ...   \n",
       "26323                     351           9.9820               1019.77   \n",
       "26324                      16          10.3523               1020.28   \n",
       "26325                      30           9.9820               1020.47   \n",
       "26326                       0          15.8263               1020.68   \n",
       "26327                     352          14.9569               1021.01   \n",
       "\n",
       "       Daily Summary  \n",
       "1                107  \n",
       "2                107  \n",
       "3                107  \n",
       "4                107  \n",
       "5                107  \n",
       "...              ...  \n",
       "26323             87  \n",
       "26324             87  \n",
       "26325             87  \n",
       "26326             87  \n",
       "26327             87  \n",
       "\n",
       "[26327 rows x 12 columns]"
      ]
     },
     "execution_count": 7,
     "metadata": {},
     "output_type": "execute_result"
    }
   ],
   "source": [
    "df"
   ]
  },
  {
   "cell_type": "markdown",
   "id": "5db760a3",
   "metadata": {},
   "source": [
    "# Train test split"
   ]
  },
  {
   "cell_type": "code",
   "execution_count": 8,
   "id": "1def67b4",
   "metadata": {},
   "outputs": [],
   "source": [
    "# Import train-test scikit learn\n",
    "from sklearn.model_selection import train_test_split"
   ]
  },
  {
   "cell_type": "code",
   "execution_count": 9,
   "id": "e70fafb5",
   "metadata": {},
   "outputs": [],
   "source": [
    "x = df.drop('Daily Summary',axis=1)\n",
    "y=df['Daily Summary']"
   ]
  },
  {
   "cell_type": "code",
   "execution_count": 10,
   "id": "9fb4671d",
   "metadata": {},
   "outputs": [
    {
     "data": {
      "text/html": [
       "<div>\n",
       "<style scoped>\n",
       "    .dataframe tbody tr th:only-of-type {\n",
       "        vertical-align: middle;\n",
       "    }\n",
       "\n",
       "    .dataframe tbody tr th {\n",
       "        vertical-align: top;\n",
       "    }\n",
       "\n",
       "    .dataframe thead th {\n",
       "        text-align: right;\n",
       "    }\n",
       "</style>\n",
       "<table border=\"1\" class=\"dataframe\">\n",
       "  <thead>\n",
       "    <tr style=\"text-align: right;\">\n",
       "      <th></th>\n",
       "      <th>Year</th>\n",
       "      <th>Month</th>\n",
       "      <th>Summary</th>\n",
       "      <th>Precip Type</th>\n",
       "      <th>Temperature (C)</th>\n",
       "      <th>Apparent Temperature (C)</th>\n",
       "      <th>Humidity</th>\n",
       "      <th>Wind Speed (km/h)</th>\n",
       "      <th>Wind Bearing (degrees)</th>\n",
       "      <th>Visibility (km)</th>\n",
       "      <th>Pressure (millibars)</th>\n",
       "    </tr>\n",
       "  </thead>\n",
       "  <tbody>\n",
       "    <tr>\n",
       "      <th>1</th>\n",
       "      <td>2006</td>\n",
       "      <td>4</td>\n",
       "      <td>14</td>\n",
       "      <td>0</td>\n",
       "      <td>9.355556</td>\n",
       "      <td>7.227778</td>\n",
       "      <td>0.86</td>\n",
       "      <td>14.2646</td>\n",
       "      <td>259</td>\n",
       "      <td>15.8263</td>\n",
       "      <td>1015.63</td>\n",
       "    </tr>\n",
       "    <tr>\n",
       "      <th>2</th>\n",
       "      <td>2006</td>\n",
       "      <td>4</td>\n",
       "      <td>12</td>\n",
       "      <td>0</td>\n",
       "      <td>9.377778</td>\n",
       "      <td>9.377778</td>\n",
       "      <td>0.89</td>\n",
       "      <td>3.9284</td>\n",
       "      <td>204</td>\n",
       "      <td>14.9569</td>\n",
       "      <td>1015.94</td>\n",
       "    </tr>\n",
       "    <tr>\n",
       "      <th>3</th>\n",
       "      <td>2006</td>\n",
       "      <td>4</td>\n",
       "      <td>14</td>\n",
       "      <td>0</td>\n",
       "      <td>8.288889</td>\n",
       "      <td>5.944444</td>\n",
       "      <td>0.83</td>\n",
       "      <td>14.1036</td>\n",
       "      <td>269</td>\n",
       "      <td>15.8263</td>\n",
       "      <td>1016.41</td>\n",
       "    </tr>\n",
       "    <tr>\n",
       "      <th>4</th>\n",
       "      <td>2006</td>\n",
       "      <td>4</td>\n",
       "      <td>12</td>\n",
       "      <td>0</td>\n",
       "      <td>8.755556</td>\n",
       "      <td>6.977778</td>\n",
       "      <td>0.83</td>\n",
       "      <td>11.0446</td>\n",
       "      <td>259</td>\n",
       "      <td>15.8263</td>\n",
       "      <td>1016.51</td>\n",
       "    </tr>\n",
       "    <tr>\n",
       "      <th>5</th>\n",
       "      <td>2006</td>\n",
       "      <td>4</td>\n",
       "      <td>14</td>\n",
       "      <td>0</td>\n",
       "      <td>9.222222</td>\n",
       "      <td>7.111111</td>\n",
       "      <td>0.85</td>\n",
       "      <td>13.9587</td>\n",
       "      <td>258</td>\n",
       "      <td>14.9569</td>\n",
       "      <td>1016.66</td>\n",
       "    </tr>\n",
       "    <tr>\n",
       "      <th>...</th>\n",
       "      <td>...</td>\n",
       "      <td>...</td>\n",
       "      <td>...</td>\n",
       "      <td>...</td>\n",
       "      <td>...</td>\n",
       "      <td>...</td>\n",
       "      <td>...</td>\n",
       "      <td>...</td>\n",
       "      <td>...</td>\n",
       "      <td>...</td>\n",
       "      <td>...</td>\n",
       "    </tr>\n",
       "    <tr>\n",
       "      <th>26323</th>\n",
       "      <td>2008</td>\n",
       "      <td>9</td>\n",
       "      <td>14</td>\n",
       "      <td>0</td>\n",
       "      <td>21.083333</td>\n",
       "      <td>21.083333</td>\n",
       "      <td>0.50</td>\n",
       "      <td>8.9999</td>\n",
       "      <td>351</td>\n",
       "      <td>9.9820</td>\n",
       "      <td>1019.77</td>\n",
       "    </tr>\n",
       "    <tr>\n",
       "      <th>26324</th>\n",
       "      <td>2008</td>\n",
       "      <td>9</td>\n",
       "      <td>5</td>\n",
       "      <td>0</td>\n",
       "      <td>18.950000</td>\n",
       "      <td>18.950000</td>\n",
       "      <td>0.61</td>\n",
       "      <td>4.5885</td>\n",
       "      <td>16</td>\n",
       "      <td>10.3523</td>\n",
       "      <td>1020.28</td>\n",
       "    </tr>\n",
       "    <tr>\n",
       "      <th>26325</th>\n",
       "      <td>2008</td>\n",
       "      <td>9</td>\n",
       "      <td>5</td>\n",
       "      <td>0</td>\n",
       "      <td>17.127778</td>\n",
       "      <td>17.127778</td>\n",
       "      <td>0.68</td>\n",
       "      <td>1.5295</td>\n",
       "      <td>30</td>\n",
       "      <td>9.9820</td>\n",
       "      <td>1020.47</td>\n",
       "    </tr>\n",
       "    <tr>\n",
       "      <th>26326</th>\n",
       "      <td>2008</td>\n",
       "      <td>9</td>\n",
       "      <td>5</td>\n",
       "      <td>0</td>\n",
       "      <td>15.488889</td>\n",
       "      <td>15.488889</td>\n",
       "      <td>0.76</td>\n",
       "      <td>0.0000</td>\n",
       "      <td>0</td>\n",
       "      <td>15.8263</td>\n",
       "      <td>1020.68</td>\n",
       "    </tr>\n",
       "    <tr>\n",
       "      <th>26327</th>\n",
       "      <td>2008</td>\n",
       "      <td>9</td>\n",
       "      <td>5</td>\n",
       "      <td>0</td>\n",
       "      <td>14.261111</td>\n",
       "      <td>14.261111</td>\n",
       "      <td>0.79</td>\n",
       "      <td>4.1538</td>\n",
       "      <td>352</td>\n",
       "      <td>14.9569</td>\n",
       "      <td>1021.01</td>\n",
       "    </tr>\n",
       "  </tbody>\n",
       "</table>\n",
       "<p>26327 rows × 11 columns</p>\n",
       "</div>"
      ],
      "text/plain": [
       "       Year  Month  Summary  Precip Type  Temperature (C)  \\\n",
       "1      2006      4       14            0         9.355556   \n",
       "2      2006      4       12            0         9.377778   \n",
       "3      2006      4       14            0         8.288889   \n",
       "4      2006      4       12            0         8.755556   \n",
       "5      2006      4       14            0         9.222222   \n",
       "...     ...    ...      ...          ...              ...   \n",
       "26323  2008      9       14            0        21.083333   \n",
       "26324  2008      9        5            0        18.950000   \n",
       "26325  2008      9        5            0        17.127778   \n",
       "26326  2008      9        5            0        15.488889   \n",
       "26327  2008      9        5            0        14.261111   \n",
       "\n",
       "       Apparent Temperature (C)  Humidity  Wind Speed (km/h)  \\\n",
       "1                      7.227778      0.86            14.2646   \n",
       "2                      9.377778      0.89             3.9284   \n",
       "3                      5.944444      0.83            14.1036   \n",
       "4                      6.977778      0.83            11.0446   \n",
       "5                      7.111111      0.85            13.9587   \n",
       "...                         ...       ...                ...   \n",
       "26323                 21.083333      0.50             8.9999   \n",
       "26324                 18.950000      0.61             4.5885   \n",
       "26325                 17.127778      0.68             1.5295   \n",
       "26326                 15.488889      0.76             0.0000   \n",
       "26327                 14.261111      0.79             4.1538   \n",
       "\n",
       "       Wind Bearing (degrees)  Visibility (km)  Pressure (millibars)  \n",
       "1                         259          15.8263               1015.63  \n",
       "2                         204          14.9569               1015.94  \n",
       "3                         269          15.8263               1016.41  \n",
       "4                         259          15.8263               1016.51  \n",
       "5                         258          14.9569               1016.66  \n",
       "...                       ...              ...                   ...  \n",
       "26323                     351           9.9820               1019.77  \n",
       "26324                      16          10.3523               1020.28  \n",
       "26325                      30           9.9820               1020.47  \n",
       "26326                       0          15.8263               1020.68  \n",
       "26327                     352          14.9569               1021.01  \n",
       "\n",
       "[26327 rows x 11 columns]"
      ]
     },
     "execution_count": 10,
     "metadata": {},
     "output_type": "execute_result"
    }
   ],
   "source": [
    "x"
   ]
  },
  {
   "cell_type": "code",
   "execution_count": 11,
   "id": "b255026b",
   "metadata": {},
   "outputs": [
    {
     "data": {
      "text/plain": [
       "1        107\n",
       "2        107\n",
       "3        107\n",
       "4        107\n",
       "5        107\n",
       "        ... \n",
       "26323     87\n",
       "26324     87\n",
       "26325     87\n",
       "26326     87\n",
       "26327     87\n",
       "Name: Daily Summary, Length: 26327, dtype: int32"
      ]
     },
     "execution_count": 11,
     "metadata": {},
     "output_type": "execute_result"
    }
   ],
   "source": [
    "y"
   ]
  },
  {
   "cell_type": "code",
   "execution_count": 12,
   "id": "0429e665",
   "metadata": {},
   "outputs": [],
   "source": [
    "x_train,x_test,y_train,y_test=train_test_split(x,y,random_state=0,test_size=0.45)"
   ]
  },
  {
   "cell_type": "markdown",
   "id": "6baf5d4a",
   "metadata": {},
   "source": [
    "# Decision tree begins\n",
    "![](https://i.pinimg.com/originals/09/6a/1b/096a1bf6a241e704846ef93fdea18967.gif)"
   ]
  },
  {
   "cell_type": "code",
   "execution_count": 31,
   "id": "50a48b9c",
   "metadata": {},
   "outputs": [],
   "source": [
    "clf = DecisionTreeClassifier(min_samples_split=7500)"
   ]
  },
  {
   "cell_type": "code",
   "execution_count": 32,
   "id": "28b44785",
   "metadata": {},
   "outputs": [],
   "source": [
    "clf = clf.fit(x_train, y_train)"
   ]
  },
  {
   "cell_type": "code",
   "execution_count": 33,
   "id": "9e150d73",
   "metadata": {},
   "outputs": [],
   "source": [
    "from sklearn import tree"
   ]
  },
  {
   "cell_type": "code",
   "execution_count": 34,
   "id": "705e3fee",
   "metadata": {},
   "outputs": [
    {
     "data": {
      "text/plain": [
       "[Text(0.4, 0.8333333333333334, 'X[2] <= 9.5\\ngini = 0.95\\nsamples = 14479\\nvalue = [14, 13, 15, 12, 9, 15, 15, 13, 137, 35, 14, 652\\n18, 122, 64, 26, 27, 15, 157, 76, 10, 13, 23\\n107, 48, 564, 17, 42, 165, 52, 19, 155, 72, 9\\n36, 11, 17, 11, 9, 53, 307, 30, 21, 14, 11, 14\\n82, 140, 215, 40, 11, 75, 10, 7, 42, 15, 13, 15\\n2077, 73, 6, 177, 53, 14, 17, 12, 693, 10, 13\\n561, 41, 15, 29, 52, 52, 126, 121, 14, 187, 115\\n309, 15, 26, 12, 96, 16, 8, 518, 403, 731, 12\\n15, 37, 16, 26, 9, 137, 13, 43, 213, 178, 11, 26\\n11, 46, 14, 16, 1104, 72, 15, 7, 602, 78, 45\\n1197]'),\n",
       " Text(0.2, 0.5, 'gini = 0.968\\nsamples = 3302\\nvalue = [1, 10, 10, 6, 4, 4, 5, 5, 130, 6, 7, 204, 3\\n30, 24, 9, 18, 2, 60, 26, 8, 9, 17, 77, 34\\n257, 15, 39, 165, 37, 14, 66, 62, 5, 15, 3, 10\\n6, 4, 13, 68, 5, 2, 3, 0, 4, 16, 19, 14, 5\\n1, 11, 1, 3, 10, 2, 3, 5, 14, 21, 2, 40, 22\\n3, 4, 4, 51, 2, 3, 2, 4, 6, 3, 37, 44, 75\\n25, 6, 108, 52, 148, 11, 16, 3, 57, 8, 5, 200\\n123, 148, 2, 6, 12, 8, 10, 2, 32, 7, 19, 31\\n13, 1, 2, 1, 16, 6, 5, 4, 20, 5, 5, 115, 29\\n8, 104]'),\n",
       " Text(0.6, 0.5, 'X[2] <= 13.5\\ngini = 0.93\\nsamples = 11177\\nvalue = [13, 3, 5, 6, 5, 11, 10, 8, 7, 29, 7, 448, 15\\n92, 40, 17, 9, 13, 97, 50, 2, 4, 6, 30, 14\\n307, 2, 3, 0, 15, 5, 89, 10, 4, 21, 8, 7, 5\\n5, 40, 239, 25, 19, 11, 11, 10, 66, 121, 201, 35\\n10, 64, 9, 4, 32, 13, 10, 10, 2063, 52, 4, 137\\n31, 11, 13, 8, 642, 8, 10, 559, 37, 9, 26, 15\\n8, 51, 96, 8, 79, 63, 161, 4, 10, 9, 39, 8, 3\\n318, 280, 583, 10, 9, 25, 8, 16, 7, 105, 6, 24\\n182, 165, 10, 24, 10, 30, 8, 11, 1100, 52, 10, 2\\n487, 49, 37, 1093]'),\n",
       " Text(0.4, 0.16666666666666666, 'gini = 0.896\\nsamples = 6184\\nvalue = [8, 3, 4, 3, 5, 0, 3, 8, 0, 26, 6, 294, 15\\n73, 36, 17, 7, 6, 60, 47, 2, 4, 6, 28, 14, 191\\n2, 2, 0, 12, 5, 60, 7, 4, 19, 4, 6, 5, 4, 31\\n184, 17, 16, 6, 11, 7, 50, 92, 158, 31, 10, 55\\n8, 4, 25, 10, 9, 3, 1693, 42, 1, 100, 25, 8, 6\\n7, 493, 8, 10, 557, 36, 9, 26, 1, 0, 6, 28, 0\\n3, 1, 32, 0, 2, 3, 8, 5, 0, 29, 32, 179, 5\\n1, 9, 3, 4, 3, 25, 2, 11, 47, 61, 4, 5, 3\\n13, 4, 4, 417, 12, 6, 2, 136, 6, 11, 317]'),\n",
       " Text(0.8, 0.16666666666666666, 'gini = 0.928\\nsamples = 4993\\nvalue = [5, 0, 1, 3, 0, 11, 7, 0, 7, 3, 1, 154, 0, 19\\n4, 0, 2, 7, 37, 3, 0, 0, 0, 2, 0, 116, 0, 1\\n0, 3, 0, 29, 3, 0, 2, 4, 1, 0, 1, 9, 55, 8\\n3, 5, 0, 3, 16, 29, 43, 4, 0, 9, 1, 0, 7, 3\\n1, 7, 370, 10, 3, 37, 6, 3, 7, 1, 149, 0, 0\\n2, 1, 0, 0, 14, 8, 45, 68, 8, 76, 62, 129, 4\\n8, 6, 31, 3, 3, 289, 248, 404, 5, 8, 16, 5, 12\\n4, 80, 4, 13, 135, 104, 6, 19, 7, 17, 4, 7\\n683, 40, 4, 0, 351, 43, 26, 776]')]"
      ]
     },
     "execution_count": 34,
     "metadata": {},
     "output_type": "execute_result"
    },
    {
     "data": {
      "image/png": "[encoded data removed]",
      "text/plain": [
       "<Figure size 640x480 with 1 Axes>"
      ]
     },
     "metadata": {},
     "output_type": "display_data"
    }
   ],
   "source": [
    "tree.plot_tree(clf)"
   ]
  },
  {
   "cell_type": "markdown",
   "id": "ffc176ea",
   "metadata": {},
   "source": [
    "# Decision tree training--------------------------------------------------------------------------------"
   ]
  },
  {
   "cell_type": "markdown",
   "id": "5dfbcdcf",
   "metadata": {},
   "source": [
    "# Looking at the MSE score of training data"
   ]
  },
  {
   "cell_type": "code",
   "execution_count": 35,
   "id": "f34be65e",
   "metadata": {},
   "outputs": [],
   "source": [
    "# Importing metrics for the evaluation of the model\n",
    "from sklearn.metrics import r2_score,mean_squared_error"
   ]
  },
  {
   "cell_type": "code",
   "execution_count": 36,
   "id": "2933d0da",
   "metadata": {},
   "outputs": [],
   "source": [
    "# Predicting the daily summary for the train values\n",
    "y_pred_train = clf.predict(x_train)"
   ]
  },
  {
   "cell_type": "code",
   "execution_count": 37,
   "id": "336c7845",
   "metadata": {},
   "outputs": [
    {
     "data": {
      "text/plain": [
       "1393.0917190413702"
      ]
     },
     "execution_count": 37,
     "metadata": {},
     "output_type": "execute_result"
    }
   ],
   "source": [
    "# calculate Mean square error\n",
    "mean_squared_error(y_train,y_pred_train)"
   ]
  },
  {
   "cell_type": "code",
   "execution_count": 38,
   "id": "e9eeaf08",
   "metadata": {},
   "outputs": [],
   "source": [
    "mse_train = mean_squared_error(y_train,y_pred_train)"
   ]
  },
  {
   "cell_type": "markdown",
   "id": "b0b42992",
   "metadata": {},
   "source": [
    "# Checking the train RSME"
   ]
  },
  {
   "cell_type": "code",
   "execution_count": 39,
   "id": "021bf32d",
   "metadata": {},
   "outputs": [
    {
     "name": "stdout",
     "output_type": "stream",
     "text": [
      "RMSE: 37.324143915719894\n"
     ]
    }
   ],
   "source": [
    "import math\n",
    "rmse_train = math.sqrt(mse_train)\n",
    "print(\"RMSE:\", rmse_train)"
   ]
  },
  {
   "cell_type": "markdown",
   "id": "9d3ea2d1",
   "metadata": {},
   "source": [
    "# R_Squared(training data)"
   ]
  },
  {
   "cell_type": "code",
   "execution_count": 40,
   "id": "4074f12f",
   "metadata": {},
   "outputs": [
    {
     "data": {
      "text/plain": [
       "-0.34270513537367475"
      ]
     },
     "execution_count": 40,
     "metadata": {},
     "output_type": "execute_result"
    }
   ],
   "source": [
    "# Calculate R square vale\n",
    "r2_score(y_train,y_pred_train)"
   ]
  },
  {
   "cell_type": "markdown",
   "id": "f44ffb02",
   "metadata": {},
   "source": [
    "# Decision tree testing--------------------------------------------------------------------------------"
   ]
  },
  {
   "cell_type": "markdown",
   "id": "7b0138f8",
   "metadata": {},
   "source": [
    "# Looking at the MSE score of testing data"
   ]
  },
  {
   "cell_type": "code",
   "execution_count": 42,
   "id": "936708a8",
   "metadata": {},
   "outputs": [],
   "source": [
    "# Predicting the daily summary for the train values\n",
    "y_pred_test = clf.predict(x_test)"
   ]
  },
  {
   "cell_type": "code",
   "execution_count": 44,
   "id": "6a1fb523",
   "metadata": {},
   "outputs": [
    {
     "data": {
      "text/plain": [
       "1421.8938217420662"
      ]
     },
     "execution_count": 44,
     "metadata": {},
     "output_type": "execute_result"
    }
   ],
   "source": [
    "# calculate Mean square error\n",
    "mean_squared_error(y_test,y_pred_test)"
   ]
  },
  {
   "cell_type": "code",
   "execution_count": 45,
   "id": "c1e6dcc8",
   "metadata": {},
   "outputs": [],
   "source": [
    "mse_test = mean_squared_error(y_test,y_pred_test)"
   ]
  },
  {
   "cell_type": "markdown",
   "id": "24068b4a",
   "metadata": {},
   "source": [
    "# Checking the test RSME"
   ]
  },
  {
   "cell_type": "code",
   "execution_count": 46,
   "id": "3d3ea850",
   "metadata": {},
   "outputs": [
    {
     "name": "stdout",
     "output_type": "stream",
     "text": [
      "RMSE: 37.70800739553956\n"
     ]
    }
   ],
   "source": [
    "import math\n",
    "rmse_test = math.sqrt(mse_test)\n",
    "print(\"RMSE:\", rmse_test)"
   ]
  },
  {
   "cell_type": "markdown",
   "id": "e8a96129",
   "metadata": {},
   "source": [
    "# R_Squared(Testing data)"
   ]
  },
  {
   "cell_type": "code",
   "execution_count": 47,
   "id": "359a7299",
   "metadata": {},
   "outputs": [
    {
     "data": {
      "text/plain": [
       "-0.3681400344466439"
      ]
     },
     "execution_count": 47,
     "metadata": {},
     "output_type": "execute_result"
    }
   ],
   "source": [
    "# Calculate R square vale\n",
    "r2_score(y_test,y_pred_test)"
   ]
  },
  {
   "cell_type": "markdown",
   "id": "3cb7e047",
   "metadata": {},
   "source": [
    "# ---------------------------------------------------------------------------------------------------------------"
   ]
  },
  {
   "cell_type": "markdown",
   "id": "5e84df9f",
   "metadata": {},
   "source": [
    "# Making predictions of daily summary using decision tree by putting randon values"
   ]
  },
  {
   "cell_type": "code",
   "execution_count": 55,
   "id": "5889e8ac",
   "metadata": {},
   "outputs": [
    {
     "name": "stderr",
     "output_type": "stream",
     "text": [
      "C:\\Users\\Asus\\anaconda3\\lib\\site-packages\\sklearn\\base.py:450: UserWarning: X does not have valid feature names, but DecisionTreeClassifier was fitted with feature names\n",
      "  warnings.warn(\n"
     ]
    },
    {
     "data": {
      "text/plain": [
       "array([114])"
      ]
     },
     "execution_count": 55,
     "metadata": {},
     "output_type": "execute_result"
    }
   ],
   "source": [
    "clf.predict([[2006,4,14,0,9.355556,7.227778,0.86,14.2646,259,15.8263,1015.63]])"
   ]
  }
 ],
 "metadata": {
  "kernelspec": {
   "display_name": "Python 3 (ipykernel)",
   "language": "python",
   "name": "python3"
  },
  "language_info": {
   "codemirror_mode": {
    "name": "ipython",
    "version": 3
   },
   "file_extension": ".py",
   "mimetype": "text/x-python",
   "name": "python",
   "nbconvert_exporter": "python",
   "pygments_lexer": "ipython3",
   "version": "3.9.13"
  }
 },
 "nbformat": 4,
 "nbformat_minor": 5
}
