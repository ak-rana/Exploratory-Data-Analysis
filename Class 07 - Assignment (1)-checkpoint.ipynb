{
 "cells": [
  {
   "cell_type": "markdown",
   "id": "8b37422f",
   "metadata": {},
   "source": [
    "# Assignment\n"
   ]
  },
  {
   "cell_type": "markdown",
   "id": "26c1363e",
   "metadata": {},
   "source": [
    "You have already picked out the dataset you want to work with. \n",
    "\n",
    "----\n",
    "\n",
    "# Question \n",
    "1. EDA, i want to see some insights, present it neatly. \n",
    "2. Fit a Decision Tree Regressor model on your data. \n",
    "3. I want to see the training and testing accuracy of your model. So do split your data before modelling.\n",
    "\n",
    "\n",
    "### Brownie Points (Extra 15 points)\n",
    "- Lastly, i want to see a function where i can input my values and get a prediction of whatever you are trying to predict. Think this through !!.\n",
    "\n",
    "\n",
    "\n",
    "Best of luck !!\n",
    "\n",
    "![](https://media.tenor.com/mUVjXo5LhsQAAAAC/kakashi-yes.gif)\n"
   ]
  },
  {
   "cell_type": "code",
   "execution_count": null,
   "id": "e8d6d307",
   "metadata": {},
   "outputs": [],
   "source": []
  }
 ],
 "metadata": {
  "kernelspec": {
   "display_name": "Python 3 (ipykernel)",
   "language": "python",
   "name": "python3"
  },
  "language_info": {
   "codemirror_mode": {
    "name": "ipython",
    "version": 3
   },
   "file_extension": ".py",
   "mimetype": "text/x-python",
   "name": "python",
   "nbconvert_exporter": "python",
   "pygments_lexer": "ipython3",
   "version": "3.9.13"
  }
 },
 "nbformat": 4,
 "nbformat_minor": 5
}
