{
 "cells": [
  {
   "cell_type": "code",
   "execution_count": 44,
   "id": "bff2edd3",
   "metadata": {},
   "outputs": [],
   "source": [
    "import pandas as pd\n",
    "import numpy as np\n",
    "import matplotlib.pyplot as plt\n",
    "import seaborn as sns"
   ]
  },
  {
   "cell_type": "code",
   "execution_count": 45,
   "id": "d7e5b9c5",
   "metadata": {},
   "outputs": [],
   "source": [
    "df = pd.read_csv(\"C:/Users/akank/Downloads/Business analytics/internet_service_churn.csv\")"
   ]
  },
  {
   "cell_type": "code",
   "execution_count": 46,
   "id": "34a36e14",
   "metadata": {},
   "outputs": [
    {
     "data": {
      "text/html": [
       "<div>\n",
       "<style scoped>\n",
       "    .dataframe tbody tr th:only-of-type {\n",
       "        vertical-align: middle;\n",
       "    }\n",
       "\n",
       "    .dataframe tbody tr th {\n",
       "        vertical-align: top;\n",
       "    }\n",
       "\n",
       "    .dataframe thead th {\n",
       "        text-align: right;\n",
       "    }\n",
       "</style>\n",
       "<table border=\"1\" class=\"dataframe\">\n",
       "  <thead>\n",
       "    <tr style=\"text-align: right;\">\n",
       "      <th></th>\n",
       "      <th>id</th>\n",
       "      <th>is_tv_subscriber</th>\n",
       "      <th>is_movie_package_subscriber</th>\n",
       "      <th>subscription_age</th>\n",
       "      <th>bill_avg</th>\n",
       "      <th>reamining_contract</th>\n",
       "      <th>service_failure_count</th>\n",
       "      <th>download_avg</th>\n",
       "      <th>upload_avg</th>\n",
       "      <th>download_over_limit</th>\n",
       "      <th>churn</th>\n",
       "    </tr>\n",
       "  </thead>\n",
       "  <tbody>\n",
       "    <tr>\n",
       "      <th>0</th>\n",
       "      <td>15</td>\n",
       "      <td>1</td>\n",
       "      <td>0</td>\n",
       "      <td>11.95</td>\n",
       "      <td>25</td>\n",
       "      <td>0.14</td>\n",
       "      <td>0</td>\n",
       "      <td>8.4</td>\n",
       "      <td>2.3</td>\n",
       "      <td>0</td>\n",
       "      <td>0</td>\n",
       "    </tr>\n",
       "    <tr>\n",
       "      <th>1</th>\n",
       "      <td>18</td>\n",
       "      <td>0</td>\n",
       "      <td>0</td>\n",
       "      <td>8.22</td>\n",
       "      <td>0</td>\n",
       "      <td>NaN</td>\n",
       "      <td>0</td>\n",
       "      <td>0.0</td>\n",
       "      <td>0.0</td>\n",
       "      <td>0</td>\n",
       "      <td>1</td>\n",
       "    </tr>\n",
       "    <tr>\n",
       "      <th>2</th>\n",
       "      <td>23</td>\n",
       "      <td>1</td>\n",
       "      <td>0</td>\n",
       "      <td>8.91</td>\n",
       "      <td>16</td>\n",
       "      <td>0.00</td>\n",
       "      <td>0</td>\n",
       "      <td>13.7</td>\n",
       "      <td>0.9</td>\n",
       "      <td>0</td>\n",
       "      <td>1</td>\n",
       "    </tr>\n",
       "    <tr>\n",
       "      <th>3</th>\n",
       "      <td>27</td>\n",
       "      <td>0</td>\n",
       "      <td>0</td>\n",
       "      <td>6.87</td>\n",
       "      <td>21</td>\n",
       "      <td>NaN</td>\n",
       "      <td>1</td>\n",
       "      <td>0.0</td>\n",
       "      <td>0.0</td>\n",
       "      <td>0</td>\n",
       "      <td>1</td>\n",
       "    </tr>\n",
       "    <tr>\n",
       "      <th>4</th>\n",
       "      <td>34</td>\n",
       "      <td>0</td>\n",
       "      <td>0</td>\n",
       "      <td>6.39</td>\n",
       "      <td>0</td>\n",
       "      <td>NaN</td>\n",
       "      <td>0</td>\n",
       "      <td>0.0</td>\n",
       "      <td>0.0</td>\n",
       "      <td>0</td>\n",
       "      <td>1</td>\n",
       "    </tr>\n",
       "    <tr>\n",
       "      <th>...</th>\n",
       "      <td>...</td>\n",
       "      <td>...</td>\n",
       "      <td>...</td>\n",
       "      <td>...</td>\n",
       "      <td>...</td>\n",
       "      <td>...</td>\n",
       "      <td>...</td>\n",
       "      <td>...</td>\n",
       "      <td>...</td>\n",
       "      <td>...</td>\n",
       "      <td>...</td>\n",
       "    </tr>\n",
       "    <tr>\n",
       "      <th>72269</th>\n",
       "      <td>1689648</td>\n",
       "      <td>1</td>\n",
       "      <td>1</td>\n",
       "      <td>0.09</td>\n",
       "      <td>0</td>\n",
       "      <td>1.25</td>\n",
       "      <td>0</td>\n",
       "      <td>0.0</td>\n",
       "      <td>0.0</td>\n",
       "      <td>0</td>\n",
       "      <td>1</td>\n",
       "    </tr>\n",
       "    <tr>\n",
       "      <th>72270</th>\n",
       "      <td>1689676</td>\n",
       "      <td>1</td>\n",
       "      <td>0</td>\n",
       "      <td>0.06</td>\n",
       "      <td>1</td>\n",
       "      <td>1.63</td>\n",
       "      <td>0</td>\n",
       "      <td>0.8</td>\n",
       "      <td>0.0</td>\n",
       "      <td>0</td>\n",
       "      <td>1</td>\n",
       "    </tr>\n",
       "    <tr>\n",
       "      <th>72271</th>\n",
       "      <td>1689679</td>\n",
       "      <td>1</td>\n",
       "      <td>0</td>\n",
       "      <td>0.02</td>\n",
       "      <td>0</td>\n",
       "      <td>2.19</td>\n",
       "      <td>0</td>\n",
       "      <td>1.5</td>\n",
       "      <td>0.2</td>\n",
       "      <td>0</td>\n",
       "      <td>1</td>\n",
       "    </tr>\n",
       "    <tr>\n",
       "      <th>72272</th>\n",
       "      <td>1689733</td>\n",
       "      <td>0</td>\n",
       "      <td>0</td>\n",
       "      <td>0.01</td>\n",
       "      <td>0</td>\n",
       "      <td>0.72</td>\n",
       "      <td>0</td>\n",
       "      <td>0.0</td>\n",
       "      <td>0.0</td>\n",
       "      <td>0</td>\n",
       "      <td>1</td>\n",
       "    </tr>\n",
       "    <tr>\n",
       "      <th>72273</th>\n",
       "      <td>1689744</td>\n",
       "      <td>1</td>\n",
       "      <td>1</td>\n",
       "      <td>0.01</td>\n",
       "      <td>0</td>\n",
       "      <td>0.82</td>\n",
       "      <td>0</td>\n",
       "      <td>0.0</td>\n",
       "      <td>0.0</td>\n",
       "      <td>0</td>\n",
       "      <td>1</td>\n",
       "    </tr>\n",
       "  </tbody>\n",
       "</table>\n",
       "<p>72274 rows × 11 columns</p>\n",
       "</div>"
      ],
      "text/plain": [
       "            id  is_tv_subscriber  is_movie_package_subscriber  \\\n",
       "0           15                 1                            0   \n",
       "1           18                 0                            0   \n",
       "2           23                 1                            0   \n",
       "3           27                 0                            0   \n",
       "4           34                 0                            0   \n",
       "...        ...               ...                          ...   \n",
       "72269  1689648                 1                            1   \n",
       "72270  1689676                 1                            0   \n",
       "72271  1689679                 1                            0   \n",
       "72272  1689733                 0                            0   \n",
       "72273  1689744                 1                            1   \n",
       "\n",
       "       subscription_age  bill_avg  reamining_contract  service_failure_count  \\\n",
       "0                 11.95        25                0.14                      0   \n",
       "1                  8.22         0                 NaN                      0   \n",
       "2                  8.91        16                0.00                      0   \n",
       "3                  6.87        21                 NaN                      1   \n",
       "4                  6.39         0                 NaN                      0   \n",
       "...                 ...       ...                 ...                    ...   \n",
       "72269              0.09         0                1.25                      0   \n",
       "72270              0.06         1                1.63                      0   \n",
       "72271              0.02         0                2.19                      0   \n",
       "72272              0.01         0                0.72                      0   \n",
       "72273              0.01         0                0.82                      0   \n",
       "\n",
       "       download_avg  upload_avg  download_over_limit  churn  \n",
       "0               8.4         2.3                    0      0  \n",
       "1               0.0         0.0                    0      1  \n",
       "2              13.7         0.9                    0      1  \n",
       "3               0.0         0.0                    0      1  \n",
       "4               0.0         0.0                    0      1  \n",
       "...             ...         ...                  ...    ...  \n",
       "72269           0.0         0.0                    0      1  \n",
       "72270           0.8         0.0                    0      1  \n",
       "72271           1.5         0.2                    0      1  \n",
       "72272           0.0         0.0                    0      1  \n",
       "72273           0.0         0.0                    0      1  \n",
       "\n",
       "[72274 rows x 11 columns]"
      ]
     },
     "execution_count": 46,
     "metadata": {},
     "output_type": "execute_result"
    }
   ],
   "source": [
    "df"
   ]
  },
  {
   "cell_type": "code",
   "execution_count": 47,
   "id": "e5c62a97",
   "metadata": {},
   "outputs": [],
   "source": [
    "df = df.drop(\"id\", axis = 1)"
   ]
  },
  {
   "cell_type": "code",
   "execution_count": 48,
   "id": "82698baf",
   "metadata": {},
   "outputs": [],
   "source": [
    "df=df.dropna()"
   ]
  },
  {
   "cell_type": "code",
   "execution_count": 49,
   "id": "d010ecfe",
   "metadata": {},
   "outputs": [
    {
     "data": {
      "text/html": [
       "<div>\n",
       "<style scoped>\n",
       "    .dataframe tbody tr th:only-of-type {\n",
       "        vertical-align: middle;\n",
       "    }\n",
       "\n",
       "    .dataframe tbody tr th {\n",
       "        vertical-align: top;\n",
       "    }\n",
       "\n",
       "    .dataframe thead th {\n",
       "        text-align: right;\n",
       "    }\n",
       "</style>\n",
       "<table border=\"1\" class=\"dataframe\">\n",
       "  <thead>\n",
       "    <tr style=\"text-align: right;\">\n",
       "      <th></th>\n",
       "      <th>is_tv_subscriber</th>\n",
       "      <th>is_movie_package_subscriber</th>\n",
       "      <th>subscription_age</th>\n",
       "      <th>bill_avg</th>\n",
       "      <th>reamining_contract</th>\n",
       "      <th>service_failure_count</th>\n",
       "      <th>download_avg</th>\n",
       "      <th>upload_avg</th>\n",
       "      <th>download_over_limit</th>\n",
       "      <th>churn</th>\n",
       "    </tr>\n",
       "  </thead>\n",
       "  <tbody>\n",
       "    <tr>\n",
       "      <th>0</th>\n",
       "      <td>1</td>\n",
       "      <td>0</td>\n",
       "      <td>11.95</td>\n",
       "      <td>25</td>\n",
       "      <td>0.14</td>\n",
       "      <td>0</td>\n",
       "      <td>8.4</td>\n",
       "      <td>2.3</td>\n",
       "      <td>0</td>\n",
       "      <td>0</td>\n",
       "    </tr>\n",
       "    <tr>\n",
       "      <th>2</th>\n",
       "      <td>1</td>\n",
       "      <td>0</td>\n",
       "      <td>8.91</td>\n",
       "      <td>16</td>\n",
       "      <td>0.00</td>\n",
       "      <td>0</td>\n",
       "      <td>13.7</td>\n",
       "      <td>0.9</td>\n",
       "      <td>0</td>\n",
       "      <td>1</td>\n",
       "    </tr>\n",
       "    <tr>\n",
       "      <th>5</th>\n",
       "      <td>1</td>\n",
       "      <td>1</td>\n",
       "      <td>11.94</td>\n",
       "      <td>32</td>\n",
       "      <td>1.38</td>\n",
       "      <td>0</td>\n",
       "      <td>69.4</td>\n",
       "      <td>4.0</td>\n",
       "      <td>0</td>\n",
       "      <td>0</td>\n",
       "    </tr>\n",
       "    <tr>\n",
       "      <th>6</th>\n",
       "      <td>0</td>\n",
       "      <td>0</td>\n",
       "      <td>8.96</td>\n",
       "      <td>18</td>\n",
       "      <td>0.00</td>\n",
       "      <td>0</td>\n",
       "      <td>21.3</td>\n",
       "      <td>2.0</td>\n",
       "      <td>0</td>\n",
       "      <td>1</td>\n",
       "    </tr>\n",
       "    <tr>\n",
       "      <th>10</th>\n",
       "      <td>1</td>\n",
       "      <td>1</td>\n",
       "      <td>8.44</td>\n",
       "      <td>17</td>\n",
       "      <td>0.00</td>\n",
       "      <td>0</td>\n",
       "      <td>9.9</td>\n",
       "      <td>1.1</td>\n",
       "      <td>0</td>\n",
       "      <td>1</td>\n",
       "    </tr>\n",
       "    <tr>\n",
       "      <th>...</th>\n",
       "      <td>...</td>\n",
       "      <td>...</td>\n",
       "      <td>...</td>\n",
       "      <td>...</td>\n",
       "      <td>...</td>\n",
       "      <td>...</td>\n",
       "      <td>...</td>\n",
       "      <td>...</td>\n",
       "      <td>...</td>\n",
       "      <td>...</td>\n",
       "    </tr>\n",
       "    <tr>\n",
       "      <th>72269</th>\n",
       "      <td>1</td>\n",
       "      <td>1</td>\n",
       "      <td>0.09</td>\n",
       "      <td>0</td>\n",
       "      <td>1.25</td>\n",
       "      <td>0</td>\n",
       "      <td>0.0</td>\n",
       "      <td>0.0</td>\n",
       "      <td>0</td>\n",
       "      <td>1</td>\n",
       "    </tr>\n",
       "    <tr>\n",
       "      <th>72270</th>\n",
       "      <td>1</td>\n",
       "      <td>0</td>\n",
       "      <td>0.06</td>\n",
       "      <td>1</td>\n",
       "      <td>1.63</td>\n",
       "      <td>0</td>\n",
       "      <td>0.8</td>\n",
       "      <td>0.0</td>\n",
       "      <td>0</td>\n",
       "      <td>1</td>\n",
       "    </tr>\n",
       "    <tr>\n",
       "      <th>72271</th>\n",
       "      <td>1</td>\n",
       "      <td>0</td>\n",
       "      <td>0.02</td>\n",
       "      <td>0</td>\n",
       "      <td>2.19</td>\n",
       "      <td>0</td>\n",
       "      <td>1.5</td>\n",
       "      <td>0.2</td>\n",
       "      <td>0</td>\n",
       "      <td>1</td>\n",
       "    </tr>\n",
       "    <tr>\n",
       "      <th>72272</th>\n",
       "      <td>0</td>\n",
       "      <td>0</td>\n",
       "      <td>0.01</td>\n",
       "      <td>0</td>\n",
       "      <td>0.72</td>\n",
       "      <td>0</td>\n",
       "      <td>0.0</td>\n",
       "      <td>0.0</td>\n",
       "      <td>0</td>\n",
       "      <td>1</td>\n",
       "    </tr>\n",
       "    <tr>\n",
       "      <th>72273</th>\n",
       "      <td>1</td>\n",
       "      <td>1</td>\n",
       "      <td>0.01</td>\n",
       "      <td>0</td>\n",
       "      <td>0.82</td>\n",
       "      <td>0</td>\n",
       "      <td>0.0</td>\n",
       "      <td>0.0</td>\n",
       "      <td>0</td>\n",
       "      <td>1</td>\n",
       "    </tr>\n",
       "  </tbody>\n",
       "</table>\n",
       "<p>50375 rows × 10 columns</p>\n",
       "</div>"
      ],
      "text/plain": [
       "       is_tv_subscriber  is_movie_package_subscriber  subscription_age  \\\n",
       "0                     1                            0             11.95   \n",
       "2                     1                            0              8.91   \n",
       "5                     1                            1             11.94   \n",
       "6                     0                            0              8.96   \n",
       "10                    1                            1              8.44   \n",
       "...                 ...                          ...               ...   \n",
       "72269                 1                            1              0.09   \n",
       "72270                 1                            0              0.06   \n",
       "72271                 1                            0              0.02   \n",
       "72272                 0                            0              0.01   \n",
       "72273                 1                            1              0.01   \n",
       "\n",
       "       bill_avg  reamining_contract  service_failure_count  download_avg  \\\n",
       "0            25                0.14                      0           8.4   \n",
       "2            16                0.00                      0          13.7   \n",
       "5            32                1.38                      0          69.4   \n",
       "6            18                0.00                      0          21.3   \n",
       "10           17                0.00                      0           9.9   \n",
       "...         ...                 ...                    ...           ...   \n",
       "72269         0                1.25                      0           0.0   \n",
       "72270         1                1.63                      0           0.8   \n",
       "72271         0                2.19                      0           1.5   \n",
       "72272         0                0.72                      0           0.0   \n",
       "72273         0                0.82                      0           0.0   \n",
       "\n",
       "       upload_avg  download_over_limit  churn  \n",
       "0             2.3                    0      0  \n",
       "2             0.9                    0      1  \n",
       "5             4.0                    0      0  \n",
       "6             2.0                    0      1  \n",
       "10            1.1                    0      1  \n",
       "...           ...                  ...    ...  \n",
       "72269         0.0                    0      1  \n",
       "72270         0.0                    0      1  \n",
       "72271         0.2                    0      1  \n",
       "72272         0.0                    0      1  \n",
       "72273         0.0                    0      1  \n",
       "\n",
       "[50375 rows x 10 columns]"
      ]
     },
     "execution_count": 49,
     "metadata": {},
     "output_type": "execute_result"
    }
   ],
   "source": [
    "df"
   ]
  },
  {
   "cell_type": "code",
   "execution_count": 65,
   "id": "da15d6dc",
   "metadata": {},
   "outputs": [
    {
     "data": {
      "text/html": [
       "<div>\n",
       "<style scoped>\n",
       "    .dataframe tbody tr th:only-of-type {\n",
       "        vertical-align: middle;\n",
       "    }\n",
       "\n",
       "    .dataframe tbody tr th {\n",
       "        vertical-align: top;\n",
       "    }\n",
       "\n",
       "    .dataframe thead th {\n",
       "        text-align: right;\n",
       "    }\n",
       "</style>\n",
       "<table border=\"1\" class=\"dataframe\">\n",
       "  <thead>\n",
       "    <tr style=\"text-align: right;\">\n",
       "      <th></th>\n",
       "      <th>is_tv_subscriber</th>\n",
       "      <th>is_movie_package_subscriber</th>\n",
       "      <th>subscription_age</th>\n",
       "      <th>bill_avg</th>\n",
       "      <th>reamining_contract</th>\n",
       "      <th>service_failure_count</th>\n",
       "      <th>download_avg</th>\n",
       "      <th>upload_avg</th>\n",
       "      <th>download_over_limit</th>\n",
       "      <th>churn</th>\n",
       "    </tr>\n",
       "  </thead>\n",
       "  <tbody>\n",
       "    <tr>\n",
       "      <th>count</th>\n",
       "      <td>50375.000000</td>\n",
       "      <td>50375.000000</td>\n",
       "      <td>50375.00000</td>\n",
       "      <td>50375.000000</td>\n",
       "      <td>50375.000000</td>\n",
       "      <td>50375.000000</td>\n",
       "      <td>50375.000000</td>\n",
       "      <td>50375.000000</td>\n",
       "      <td>50375.000000</td>\n",
       "      <td>50375.000000</td>\n",
       "    </tr>\n",
       "    <tr>\n",
       "      <th>mean</th>\n",
       "      <td>0.893876</td>\n",
       "      <td>0.398372</td>\n",
       "      <td>2.30913</td>\n",
       "      <td>18.388189</td>\n",
       "      <td>0.710171</td>\n",
       "      <td>0.275494</td>\n",
       "      <td>51.188812</td>\n",
       "      <td>4.823740</td>\n",
       "      <td>0.075136</td>\n",
       "      <td>0.403593</td>\n",
       "    </tr>\n",
       "    <tr>\n",
       "      <th>std</th>\n",
       "      <td>0.307999</td>\n",
       "      <td>0.489568</td>\n",
       "      <td>2.10370</td>\n",
       "      <td>10.045695</td>\n",
       "      <td>0.693979</td>\n",
       "      <td>0.807156</td>\n",
       "      <td>59.527979</td>\n",
       "      <td>10.166523</td>\n",
       "      <td>0.564437</td>\n",
       "      <td>0.490623</td>\n",
       "    </tr>\n",
       "    <tr>\n",
       "      <th>min</th>\n",
       "      <td>0.000000</td>\n",
       "      <td>0.000000</td>\n",
       "      <td>-0.02000</td>\n",
       "      <td>0.000000</td>\n",
       "      <td>0.000000</td>\n",
       "      <td>0.000000</td>\n",
       "      <td>0.000000</td>\n",
       "      <td>0.000000</td>\n",
       "      <td>0.000000</td>\n",
       "      <td>0.000000</td>\n",
       "    </tr>\n",
       "    <tr>\n",
       "      <th>25%</th>\n",
       "      <td>1.000000</td>\n",
       "      <td>0.000000</td>\n",
       "      <td>0.77000</td>\n",
       "      <td>13.000000</td>\n",
       "      <td>0.000000</td>\n",
       "      <td>0.000000</td>\n",
       "      <td>14.600000</td>\n",
       "      <td>1.000000</td>\n",
       "      <td>0.000000</td>\n",
       "      <td>0.000000</td>\n",
       "    </tr>\n",
       "    <tr>\n",
       "      <th>50%</th>\n",
       "      <td>1.000000</td>\n",
       "      <td>0.000000</td>\n",
       "      <td>1.61000</td>\n",
       "      <td>18.000000</td>\n",
       "      <td>0.560000</td>\n",
       "      <td>0.000000</td>\n",
       "      <td>37.200000</td>\n",
       "      <td>2.800000</td>\n",
       "      <td>0.000000</td>\n",
       "      <td>0.000000</td>\n",
       "    </tr>\n",
       "    <tr>\n",
       "      <th>75%</th>\n",
       "      <td>1.000000</td>\n",
       "      <td>1.000000</td>\n",
       "      <td>3.17000</td>\n",
       "      <td>22.000000</td>\n",
       "      <td>1.300000</td>\n",
       "      <td>0.000000</td>\n",
       "      <td>70.400000</td>\n",
       "      <td>5.600000</td>\n",
       "      <td>0.000000</td>\n",
       "      <td>1.000000</td>\n",
       "    </tr>\n",
       "    <tr>\n",
       "      <th>max</th>\n",
       "      <td>1.000000</td>\n",
       "      <td>1.000000</td>\n",
       "      <td>12.76000</td>\n",
       "      <td>386.000000</td>\n",
       "      <td>2.920000</td>\n",
       "      <td>18.000000</td>\n",
       "      <td>4415.200000</td>\n",
       "      <td>453.300000</td>\n",
       "      <td>7.000000</td>\n",
       "      <td>1.000000</td>\n",
       "    </tr>\n",
       "  </tbody>\n",
       "</table>\n",
       "</div>"
      ],
      "text/plain": [
       "       is_tv_subscriber  is_movie_package_subscriber  subscription_age  \\\n",
       "count      50375.000000                 50375.000000       50375.00000   \n",
       "mean           0.893876                     0.398372           2.30913   \n",
       "std            0.307999                     0.489568           2.10370   \n",
       "min            0.000000                     0.000000          -0.02000   \n",
       "25%            1.000000                     0.000000           0.77000   \n",
       "50%            1.000000                     0.000000           1.61000   \n",
       "75%            1.000000                     1.000000           3.17000   \n",
       "max            1.000000                     1.000000          12.76000   \n",
       "\n",
       "           bill_avg  reamining_contract  service_failure_count  download_avg  \\\n",
       "count  50375.000000        50375.000000           50375.000000  50375.000000   \n",
       "mean      18.388189            0.710171               0.275494     51.188812   \n",
       "std       10.045695            0.693979               0.807156     59.527979   \n",
       "min        0.000000            0.000000               0.000000      0.000000   \n",
       "25%       13.000000            0.000000               0.000000     14.600000   \n",
       "50%       18.000000            0.560000               0.000000     37.200000   \n",
       "75%       22.000000            1.300000               0.000000     70.400000   \n",
       "max      386.000000            2.920000              18.000000   4415.200000   \n",
       "\n",
       "         upload_avg  download_over_limit         churn  \n",
       "count  50375.000000         50375.000000  50375.000000  \n",
       "mean       4.823740             0.075136      0.403593  \n",
       "std       10.166523             0.564437      0.490623  \n",
       "min        0.000000             0.000000      0.000000  \n",
       "25%        1.000000             0.000000      0.000000  \n",
       "50%        2.800000             0.000000      0.000000  \n",
       "75%        5.600000             0.000000      1.000000  \n",
       "max      453.300000             7.000000      1.000000  "
      ]
     },
     "execution_count": 65,
     "metadata": {},
     "output_type": "execute_result"
    }
   ],
   "source": [
    "df.describe()"
   ]
  },
  {
   "cell_type": "code",
   "execution_count": 68,
   "id": "9de0744d",
   "metadata": {},
   "outputs": [],
   "source": [
    "df[['is_tv_subscriber', 'is_movie_package_subscriber', 'service_failure_count']] = df[['is_tv_subscriber', 'is_movie_package_subscriber', 'service_failure_count']].astype(object)"
   ]
  },
  {
   "cell_type": "code",
   "execution_count": 91,
   "id": "a55409ef",
   "metadata": {
    "scrolled": true
   },
   "outputs": [
    {
     "data": {
      "text/plain": [
       "Index(['is_tv_subscriber', 'is_movie_package_subscriber',\n",
       "       'service_failure_count'],\n",
       "      dtype='object')"
      ]
     },
     "execution_count": 91,
     "metadata": {},
     "output_type": "execute_result"
    }
   ],
   "source": [
    "df.select_dtypes(include = 'object').columns"
   ]
  },
  {
   "cell_type": "code",
   "execution_count": 76,
   "id": "315db560",
   "metadata": {},
   "outputs": [
    {
     "data": {
      "text/plain": [
       "['is_tv_subscriber', 'is_movie_package_subscriber', 'service_failure_count']"
      ]
     },
     "execution_count": 76,
     "metadata": {},
     "output_type": "execute_result"
    }
   ],
   "source": [
    "list(df.select_dtypes(include = 'object').columns)"
   ]
  },
  {
   "cell_type": "code",
   "execution_count": 78,
   "id": "fdd18059",
   "metadata": {},
   "outputs": [],
   "source": [
    "cat_columns = list(df.select_dtypes(include = 'object').columns)"
   ]
  },
  {
   "cell_type": "code",
   "execution_count": 80,
   "id": "e6e320c3",
   "metadata": {},
   "outputs": [
    {
     "data": {
      "text/plain": [
       "['is_tv_subscriber', 'is_movie_package_subscriber', 'service_failure_count']"
      ]
     },
     "execution_count": 80,
     "metadata": {},
     "output_type": "execute_result"
    }
   ],
   "source": [
    "cat_columns"
   ]
  },
  {
   "cell_type": "markdown",
   "id": "981b882e",
   "metadata": {},
   "source": [
    "# One Hot Encoder"
   ]
  },
  {
   "cell_type": "code",
   "execution_count": 60,
   "id": "1acbcbf7",
   "metadata": {},
   "outputs": [],
   "source": [
    "from sklearn.preprocessing import OneHotEncoder "
   ]
  },
  {
   "cell_type": "code",
   "execution_count": 62,
   "id": "fd94c8c3",
   "metadata": {},
   "outputs": [],
   "source": [
    "enc = OneHotEncoder()"
   ]
  },
  {
   "cell_type": "code",
   "execution_count": 82,
   "id": "a6e8faa5",
   "metadata": {},
   "outputs": [
    {
     "data": {
      "text/html": [
       "<div>\n",
       "<style scoped>\n",
       "    .dataframe tbody tr th:only-of-type {\n",
       "        vertical-align: middle;\n",
       "    }\n",
       "\n",
       "    .dataframe tbody tr th {\n",
       "        vertical-align: top;\n",
       "    }\n",
       "\n",
       "    .dataframe thead th {\n",
       "        text-align: right;\n",
       "    }\n",
       "</style>\n",
       "<table border=\"1\" class=\"dataframe\">\n",
       "  <thead>\n",
       "    <tr style=\"text-align: right;\">\n",
       "      <th></th>\n",
       "      <th>is_tv_subscriber</th>\n",
       "      <th>is_movie_package_subscriber</th>\n",
       "      <th>service_failure_count</th>\n",
       "    </tr>\n",
       "  </thead>\n",
       "  <tbody>\n",
       "    <tr>\n",
       "      <th>0</th>\n",
       "      <td>1</td>\n",
       "      <td>0</td>\n",
       "      <td>0</td>\n",
       "    </tr>\n",
       "    <tr>\n",
       "      <th>2</th>\n",
       "      <td>1</td>\n",
       "      <td>0</td>\n",
       "      <td>0</td>\n",
       "    </tr>\n",
       "    <tr>\n",
       "      <th>5</th>\n",
       "      <td>1</td>\n",
       "      <td>1</td>\n",
       "      <td>0</td>\n",
       "    </tr>\n",
       "    <tr>\n",
       "      <th>6</th>\n",
       "      <td>0</td>\n",
       "      <td>0</td>\n",
       "      <td>0</td>\n",
       "    </tr>\n",
       "    <tr>\n",
       "      <th>10</th>\n",
       "      <td>1</td>\n",
       "      <td>1</td>\n",
       "      <td>0</td>\n",
       "    </tr>\n",
       "    <tr>\n",
       "      <th>...</th>\n",
       "      <td>...</td>\n",
       "      <td>...</td>\n",
       "      <td>...</td>\n",
       "    </tr>\n",
       "    <tr>\n",
       "      <th>72269</th>\n",
       "      <td>1</td>\n",
       "      <td>1</td>\n",
       "      <td>0</td>\n",
       "    </tr>\n",
       "    <tr>\n",
       "      <th>72270</th>\n",
       "      <td>1</td>\n",
       "      <td>0</td>\n",
       "      <td>0</td>\n",
       "    </tr>\n",
       "    <tr>\n",
       "      <th>72271</th>\n",
       "      <td>1</td>\n",
       "      <td>0</td>\n",
       "      <td>0</td>\n",
       "    </tr>\n",
       "    <tr>\n",
       "      <th>72272</th>\n",
       "      <td>0</td>\n",
       "      <td>0</td>\n",
       "      <td>0</td>\n",
       "    </tr>\n",
       "    <tr>\n",
       "      <th>72273</th>\n",
       "      <td>1</td>\n",
       "      <td>1</td>\n",
       "      <td>0</td>\n",
       "    </tr>\n",
       "  </tbody>\n",
       "</table>\n",
       "<p>50375 rows × 3 columns</p>\n",
       "</div>"
      ],
      "text/plain": [
       "      is_tv_subscriber is_movie_package_subscriber service_failure_count\n",
       "0                    1                           0                     0\n",
       "2                    1                           0                     0\n",
       "5                    1                           1                     0\n",
       "6                    0                           0                     0\n",
       "10                   1                           1                     0\n",
       "...                ...                         ...                   ...\n",
       "72269                1                           1                     0\n",
       "72270                1                           0                     0\n",
       "72271                1                           0                     0\n",
       "72272                0                           0                     0\n",
       "72273                1                           1                     0\n",
       "\n",
       "[50375 rows x 3 columns]"
      ]
     },
     "execution_count": 82,
     "metadata": {},
     "output_type": "execute_result"
    }
   ],
   "source": [
    "df[cat_columns]"
   ]
  },
  {
   "cell_type": "code",
   "execution_count": 84,
   "id": "4855e286",
   "metadata": {},
   "outputs": [
    {
     "data": {
      "text/plain": [
       "['is_tv_subscriber', 'is_movie_package_subscriber', 'service_failure_count']"
      ]
     },
     "execution_count": 84,
     "metadata": {},
     "output_type": "execute_result"
    }
   ],
   "source": [
    "list(df[cat_columns].columns)"
   ]
  },
  {
   "cell_type": "code",
   "execution_count": 86,
   "id": "db14b2d9",
   "metadata": {},
   "outputs": [
    {
     "data": {
      "text/plain": [
       "OneHotEncoder()"
      ]
     },
     "execution_count": 86,
     "metadata": {},
     "output_type": "execute_result"
    }
   ],
   "source": [
    "enc.fit(df[cat_columns])"
   ]
  },
  {
   "cell_type": "code",
   "execution_count": 87,
   "id": "38987043",
   "metadata": {},
   "outputs": [
    {
     "data": {
      "text/plain": [
       "<50375x22 sparse matrix of type '<class 'numpy.float64'>'\n",
       "\twith 151125 stored elements in Compressed Sparse Row format>"
      ]
     },
     "execution_count": 87,
     "metadata": {},
     "output_type": "execute_result"
    }
   ],
   "source": [
    "enc.transform(df[cat_columns])"
   ]
  },
  {
   "cell_type": "markdown",
   "id": "fa6dba90",
   "metadata": {},
   "source": [
    "# Lets begin Modelling!!...\n"
   ]
  },
  {
   "cell_type": "code",
   "execution_count": 57,
   "id": "74fa8c38",
   "metadata": {},
   "outputs": [],
   "source": [
    "from sklearn.tree import DecisionTreeClassifier\n",
    "from sklearn import preprocessing\n",
    "le = preprocessing.LabelEncoder()"
   ]
  },
  {
   "cell_type": "code",
   "execution_count": 59,
   "id": "9f9129af",
   "metadata": {},
   "outputs": [
    {
     "data": {
      "text/html": [
       "<div>\n",
       "<style scoped>\n",
       "    .dataframe tbody tr th:only-of-type {\n",
       "        vertical-align: middle;\n",
       "    }\n",
       "\n",
       "    .dataframe tbody tr th {\n",
       "        vertical-align: top;\n",
       "    }\n",
       "\n",
       "    .dataframe thead th {\n",
       "        text-align: right;\n",
       "    }\n",
       "</style>\n",
       "<table border=\"1\" class=\"dataframe\">\n",
       "  <thead>\n",
       "    <tr style=\"text-align: right;\">\n",
       "      <th></th>\n",
       "      <th>is_tv_subscriber</th>\n",
       "      <th>is_movie_package_subscriber</th>\n",
       "      <th>subscription_age</th>\n",
       "      <th>bill_avg</th>\n",
       "      <th>reamining_contract</th>\n",
       "      <th>service_failure_count</th>\n",
       "      <th>download_avg</th>\n",
       "      <th>upload_avg</th>\n",
       "      <th>download_over_limit</th>\n",
       "      <th>churn</th>\n",
       "    </tr>\n",
       "  </thead>\n",
       "  <tbody>\n",
       "    <tr>\n",
       "      <th>0</th>\n",
       "      <td>1</td>\n",
       "      <td>0</td>\n",
       "      <td>11.95</td>\n",
       "      <td>25</td>\n",
       "      <td>0.14</td>\n",
       "      <td>0</td>\n",
       "      <td>8.4</td>\n",
       "      <td>2.3</td>\n",
       "      <td>0</td>\n",
       "      <td>0</td>\n",
       "    </tr>\n",
       "  </tbody>\n",
       "</table>\n",
       "</div>"
      ],
      "text/plain": [
       "   is_tv_subscriber  is_movie_package_subscriber  subscription_age  bill_avg  \\\n",
       "0                 1                            0             11.95        25   \n",
       "\n",
       "   reamining_contract  service_failure_count  download_avg  upload_avg  \\\n",
       "0                0.14                      0           8.4         2.3   \n",
       "\n",
       "   download_over_limit  churn  \n",
       "0                    0      0  "
      ]
     },
     "execution_count": 59,
     "metadata": {},
     "output_type": "execute_result"
    }
   ],
   "source": [
    "df.head(1)"
   ]
  },
  {
   "cell_type": "code",
   "execution_count": null,
   "id": "a73faf63",
   "metadata": {},
   "outputs": [],
   "source": [
    "x = df.drop('churn', axis = 1)\n",
    "x.head()"
   ]
  },
  {
   "cell_type": "code",
   "execution_count": 95,
   "id": "13c59c03",
   "metadata": {},
   "outputs": [
    {
     "data": {
      "text/plain": [
       "0     0\n",
       "2     1\n",
       "5     0\n",
       "6     1\n",
       "10    1\n",
       "Name: churn, dtype: int64"
      ]
     },
     "execution_count": 95,
     "metadata": {},
     "output_type": "execute_result"
    }
   ],
   "source": [
    "y = df['churn']\n",
    "y.head()"
   ]
  },
  {
   "cell_type": "code",
   "execution_count": 97,
   "id": "77a64555",
   "metadata": {},
   "outputs": [],
   "source": [
    "from sklearn.model_selection import train_test_split"
   ]
  },
  {
   "cell_type": "code",
   "execution_count": 102,
   "id": "59ec0f89",
   "metadata": {},
   "outputs": [],
   "source": [
    "x_train,x_test,y_train,y_test = train_test_split(x,y,train_size=0.30,random_state=0)"
   ]
  },
  {
   "cell_type": "code",
   "execution_count": 104,
   "id": "e2e42cf7",
   "metadata": {},
   "outputs": [
    {
     "data": {
      "text/plain": [
       "(15112, 9)"
      ]
     },
     "execution_count": 104,
     "metadata": {},
     "output_type": "execute_result"
    }
   ],
   "source": [
    "x_train.shape"
   ]
  },
  {
   "cell_type": "code",
   "execution_count": 105,
   "id": "c40814e1",
   "metadata": {},
   "outputs": [
    {
     "data": {
      "text/plain": [
       "array([[1],\n",
       "       [0],\n",
       "       [0.52],\n",
       "       ...,\n",
       "       [0.0],\n",
       "       [0.0],\n",
       "       [0]], dtype=object)"
      ]
     },
     "execution_count": 105,
     "metadata": {},
     "output_type": "execute_result"
    }
   ],
   "source": [
    "x_train.values.reshape(-1,1)"
   ]
  },
  {
   "cell_type": "code",
   "execution_count": 107,
   "id": "447011e9",
   "metadata": {},
   "outputs": [
    {
     "data": {
      "text/plain": [
       "(15112,)"
      ]
     },
     "execution_count": 107,
     "metadata": {},
     "output_type": "execute_result"
    }
   ],
   "source": [
    "y_train.shape"
   ]
  },
  {
   "cell_type": "code",
   "execution_count": 111,
   "id": "c0392c26",
   "metadata": {},
   "outputs": [
    {
     "data": {
      "text/plain": [
       "array([[0],\n",
       "       [0],\n",
       "       [1],\n",
       "       ...,\n",
       "       [0],\n",
       "       [0],\n",
       "       [1]], dtype=int64)"
      ]
     },
     "execution_count": 111,
     "metadata": {},
     "output_type": "execute_result"
    }
   ],
   "source": [
    "y_train.values.reshape(-1,1)"
   ]
  },
  {
   "cell_type": "markdown",
   "id": "8092710a",
   "metadata": {},
   "source": [
    "# Fitting the Model"
   ]
  },
  {
   "cell_type": "code",
   "execution_count": 144,
   "id": "e4fde7fe",
   "metadata": {},
   "outputs": [],
   "source": [
    "#As the target variable \"Churn\" is a classified data. We use Decision Tree Classifier \n",
    "clf=DecisionTreeClassifier(min_samples_split=2300)"
   ]
  },
  {
   "cell_type": "code",
   "execution_count": 145,
   "id": "760777da",
   "metadata": {},
   "outputs": [],
   "source": [
    "clf = clf.fit(x_train, y_train)"
   ]
  },
  {
   "cell_type": "code",
   "execution_count": 146,
   "id": "fa5b8d19",
   "metadata": {},
   "outputs": [
    {
     "name": "stderr",
     "output_type": "stream",
     "text": [
      "C:\\Users\\akank\\anaconda3\\lib\\site-packages\\sklearn\\base.py:450: UserWarning: X does not have valid feature names, but DecisionTreeClassifier was fitted with feature names\n",
      "  warnings.warn(\n"
     ]
    },
    {
     "data": {
      "text/plain": [
       "array([1], dtype=int64)"
      ]
     },
     "execution_count": 146,
     "metadata": {},
     "output_type": "execute_result"
    }
   ],
   "source": [
    "clf.predict([[0,0,8.96,18,0.00,0,21.3,2.0,0]])"
   ]
  },
  {
   "cell_type": "code",
   "execution_count": 147,
   "id": "37a3ac7a",
   "metadata": {},
   "outputs": [],
   "source": [
    "y_pred = clf.predict(x_test)"
   ]
  },
  {
   "cell_type": "code",
   "execution_count": 148,
   "id": "725af7b7",
   "metadata": {},
   "outputs": [
    {
     "data": {
      "text/plain": [
       "array([0, 0, 1, ..., 0, 0, 0], dtype=int64)"
      ]
     },
     "execution_count": 148,
     "metadata": {},
     "output_type": "execute_result"
    }
   ],
   "source": [
    "y_pred"
   ]
  },
  {
   "cell_type": "code",
   "execution_count": 149,
   "id": "3f190c63",
   "metadata": {},
   "outputs": [
    {
     "data": {
      "text/plain": [
       "68417    0\n",
       "71486    0\n",
       "19971    1\n",
       "71115    0\n",
       "34033    0\n",
       "        ..\n",
       "19465    1\n",
       "62389    0\n",
       "61408    0\n",
       "21547    0\n",
       "43618    0\n",
       "Name: churn, Length: 35263, dtype: int64"
      ]
     },
     "execution_count": 149,
     "metadata": {},
     "output_type": "execute_result"
    }
   ],
   "source": [
    "y_test"
   ]
  },
  {
   "cell_type": "code",
   "execution_count": 150,
   "id": "61a88a0d",
   "metadata": {},
   "outputs": [
    {
     "data": {
      "text/plain": [
       "DecisionTreeClassifier(min_samples_split=2300)"
      ]
     },
     "execution_count": 150,
     "metadata": {},
     "output_type": "execute_result"
    }
   ],
   "source": [
    "clf"
   ]
  },
  {
   "cell_type": "code",
   "execution_count": 151,
   "id": "e8d49b91",
   "metadata": {},
   "outputs": [],
   "source": [
    "from sklearn import tree"
   ]
  },
  {
   "cell_type": "code",
   "execution_count": 152,
   "id": "5b42b98f",
   "metadata": {},
   "outputs": [
    {
     "data": {
      "text/plain": [
       "[Text(0.2857142857142857, 0.95, 'X[4] <= 0.015\\ngini = 0.48\\nsamples = 15112\\nvalue = [9076, 6036]'),\n",
       " Text(0.17142857142857143, 0.85, 'X[4] <= 0.005\\ngini = 0.026\\nsamples = 4995\\nvalue = [67, 4928]'),\n",
       " Text(0.11428571428571428, 0.75, 'X[7] <= 1.95\\ngini = 0.006\\nsamples = 4850\\nvalue = [15, 4835]'),\n",
       " Text(0.05714285714285714, 0.65, 'gini = 0.0\\nsamples = 3009\\nvalue = [0, 3009]'),\n",
       " Text(0.17142857142857143, 0.65, 'gini = 0.016\\nsamples = 1841\\nvalue = [15, 1826]'),\n",
       " Text(0.22857142857142856, 0.75, 'gini = 0.46\\nsamples = 145\\nvalue = [52, 93]'),\n",
       " Text(0.4, 0.85, 'X[6] <= 0.05\\ngini = 0.195\\nsamples = 10117\\nvalue = [9009, 1108]'),\n",
       " Text(0.34285714285714286, 0.75, 'gini = 0.039\\nsamples = 304\\nvalue = [6, 298]'),\n",
       " Text(0.45714285714285713, 0.75, 'X[3] <= 5.5\\ngini = 0.151\\nsamples = 9813\\nvalue = [9003, 810]'),\n",
       " Text(0.4, 0.65, 'gini = 0.47\\nsamples = 159\\nvalue = [99, 60]'),\n",
       " Text(0.5142857142857142, 0.65, 'X[3] <= 11.5\\ngini = 0.143\\nsamples = 9654\\nvalue = [8904, 750]'),\n",
       " Text(0.45714285714285713, 0.55, 'gini = 0.243\\nsamples = 846\\nvalue = [726, 120]'),\n",
       " Text(0.5714285714285714, 0.55, 'X[0] <= 0.5\\ngini = 0.133\\nsamples = 8808\\nvalue = [8178, 630]'),\n",
       " Text(0.5142857142857142, 0.45, 'gini = 0.296\\nsamples = 266\\nvalue = [218, 48]'),\n",
       " Text(0.6285714285714286, 0.45, 'X[2] <= 2.825\\ngini = 0.127\\nsamples = 8542\\nvalue = [7960, 582]'),\n",
       " Text(0.4857142857142857, 0.35, 'X[3] <= 15.5\\ngini = 0.147\\nsamples = 5138\\nvalue = [4727, 411]'),\n",
       " Text(0.37142857142857144, 0.25, 'X[6] <= 2.15\\ngini = 0.11\\nsamples = 2319\\nvalue = [2183, 136]'),\n",
       " Text(0.3142857142857143, 0.15, 'gini = 0.375\\nsamples = 16\\nvalue = [12, 4]'),\n",
       " Text(0.42857142857142855, 0.15, 'X[7] <= 9.45\\ngini = 0.108\\nsamples = 2303\\nvalue = [2171, 132]'),\n",
       " Text(0.37142857142857144, 0.05, 'gini = 0.117\\nsamples = 2073\\nvalue = [1944, 129]'),\n",
       " Text(0.4857142857142857, 0.05, 'gini = 0.026\\nsamples = 230\\nvalue = [227, 3]'),\n",
       " Text(0.6, 0.25, 'X[3] <= 19.5\\ngini = 0.176\\nsamples = 2819\\nvalue = [2544, 275]'),\n",
       " Text(0.5428571428571428, 0.15, 'gini = 0.277\\nsamples = 681\\nvalue = [568, 113]'),\n",
       " Text(0.6571428571428571, 0.15, 'gini = 0.14\\nsamples = 2138\\nvalue = [1976, 162]'),\n",
       " Text(0.7714285714285715, 0.35, 'X[3] <= 12.5\\ngini = 0.095\\nsamples = 3404\\nvalue = [3233, 171]'),\n",
       " Text(0.7142857142857143, 0.25, 'gini = 0.013\\nsamples = 625\\nvalue = [621, 4]'),\n",
       " Text(0.8285714285714286, 0.25, 'X[3] <= 14.5\\ngini = 0.113\\nsamples = 2779\\nvalue = [2612, 167]'),\n",
       " Text(0.7714285714285715, 0.15, 'gini = 0.384\\nsamples = 81\\nvalue = [60, 21]'),\n",
       " Text(0.8857142857142857, 0.15, 'X[4] <= 0.445\\ngini = 0.102\\nsamples = 2698\\nvalue = [2552, 146]'),\n",
       " Text(0.8285714285714286, 0.05, 'gini = 0.04\\nsamples = 778\\nvalue = [762, 16]'),\n",
       " Text(0.9428571428571428, 0.05, 'gini = 0.126\\nsamples = 1920\\nvalue = [1790, 130]')]"
      ]
     },
     "execution_count": 152,
     "metadata": {},
     "output_type": "execute_result"
    },
    {
     "data": {
      "image/png": "[encoded data removed]",
      "text/plain": [
       "<Figure size 640x480 with 1 Axes>"
      ]
     },
     "metadata": {},
     "output_type": "display_data"
    }
   ],
   "source": [
    "tree.plot_tree(clf)"
   ]
  },
  {
   "cell_type": "code",
   "execution_count": 156,
   "id": "6b18e2e8",
   "metadata": {},
   "outputs": [],
   "source": [
    "y_pred_train = clf.predict(x_train)"
   ]
  },
  {
   "cell_type": "code",
   "execution_count": 158,
   "id": "74111ece",
   "metadata": {},
   "outputs": [
    {
     "data": {
      "text/plain": [
       "66203    0\n",
       "24410    0\n",
       "56251    1\n",
       "14571    1\n",
       "55216    0\n",
       "        ..\n",
       "39258    1\n",
       "67332    1\n",
       "63893    0\n",
       "64889    0\n",
       "8371     1\n",
       "Name: churn, Length: 15112, dtype: int64"
      ]
     },
     "execution_count": 158,
     "metadata": {},
     "output_type": "execute_result"
    }
   ],
   "source": [
    "y_train"
   ]
  },
  {
   "cell_type": "code",
   "execution_count": 160,
   "id": "d1647776",
   "metadata": {},
   "outputs": [],
   "source": [
    "from sklearn.metrics import accuracy_score"
   ]
  },
  {
   "cell_type": "code",
   "execution_count": 162,
   "id": "b80f9c5e",
   "metadata": {},
   "outputs": [],
   "source": [
    "#I checked if the data could actually predict correct values using accuracy score.\n",
    "acc_DT = accuracy_score(y_test, y_pred)"
   ]
  },
  {
   "cell_type": "code",
   "execution_count": 163,
   "id": "e98036d6",
   "metadata": {},
   "outputs": [
    {
     "data": {
      "text/plain": [
       "0.9405609278847518"
      ]
     },
     "execution_count": 163,
     "metadata": {},
     "output_type": "execute_result"
    }
   ],
   "source": [
    "acc_DT"
   ]
  },
  {
   "cell_type": "markdown",
   "id": "becec3bc",
   "metadata": {},
   "source": [
    "# Creating the function"
   ]
  },
  {
   "cell_type": "code",
   "execution_count": 164,
   "id": "bd842dc6",
   "metadata": {},
   "outputs": [
    {
     "ename": "SyntaxError",
     "evalue": "unmatched ']' (3134374408.py, line 9)",
     "output_type": "error",
     "traceback": [
      "\u001b[1;36m  File \u001b[1;32m\"C:\\Users\\akank\\AppData\\Local\\Temp\\ipykernel_1716\\3134374408.py\"\u001b[1;36m, line \u001b[1;32m9\u001b[0m\n\u001b[1;33m    df[['is_tv_subscriber', 'is_movie_package_subscriber', 'service_failure_count']] = df[['is_tv_subscriber', 'is_movie_package_subscriber', 'service_failure_count']].astype(object), \"Contract\", \"PaperlessBilling\", \"PaymentMethod\"]\u001b[0m\n\u001b[1;37m                                                                                                                                                                                                                                       ^\u001b[0m\n\u001b[1;31mSyntaxError\u001b[0m\u001b[1;31m:\u001b[0m unmatched ']'\n"
     ]
    }
   ],
   "source": [
    "from sklearn.preprocessing import OneHotEncoder \n",
    "def predict_churn(gender,SeniorCitizen,Partner,Dependents,tenure,PhoneService,MultipleLines,InternetService,OnlineSecurity,OnlineBackup,DeviceProtection,TechSupport,StreamingTV,StreamingMovies,Contract,PaperlessBilling,PaymentMethod,MonthlyCharges,TotalCharges):\n",
    "    \n",
    "    # Create a DataFrame with the input values\n",
    "    input_df = pd.DataFrame([[gender, SeniorCitizen, Partner, Dependents, tenure, PhoneService, MultipleLines, InternetService, OnlineSecurity, OnlineBackup, DeviceProtection, TechSupport, StreamingTV, StreamingMovies, Contract, PaperlessBilling, PaymentMethod, MonthlyCharges, TotalCharges]],\n",
    "                            columns=['gender','SeniorCitizen','Partner','Dependents','tenure','PhoneService','MultipleLines','InternetService','OnlineSecurity','OnlineBackup','DeviceProtection','TechSupport','StreamingTV','StreamingMovies','Contract','PaperlessBilling','PaymentMethod','MonthlyCharges','TotalCharges'])\n",
    "    \n",
    "    # Convert categorical variables to numeric\n",
    "    df[['is_tv_subscriber', 'is_movie_package_subscriber', 'service_failure_count']] = df[['is_tv_subscriber', 'is_movie_package_subscriber', 'service_failure_count']].astype(object), \"Contract\", \"PaperlessBilling\", \"PaymentMethod\"]\n",
    "    df.select_dtypes(include = 'object').columns\n",
    "    list(df.select_dtypes(include = 'object').columns)\n",
    "    cat_columns = list(df.select_dtypes(include = 'object').columns)\n",
    "    enc = OneHotEncoder()\n",
    "    list(df[cat_columns].columns)\n",
    "    enc.fit(df[cat_columns])\n",
    "    enc,transform = enc.transform(df[cat_columns])\n",
    "\n",
    "    for i in enc.transform:\n",
    "        input_df[i] = le.fit_transform(input_df[i])\n",
    "    \n",
    "    # Make predictions using the model\n",
    "    prediction = clf.predict(input_df)\n",
    "    \n",
    "    # Convert the predicted output to a string value\n",
    "    churn = 'Yes' if prediction == 1 else 'No'\n",
    "    \n",
    "    return churn"
   ]
  }
 ],
 "metadata": {
  "kernelspec": {
   "display_name": "Python 3 (ipykernel)",
   "language": "python",
   "name": "python3"
  },
  "language_info": {
   "codemirror_mode": {
    "name": "ipython",
    "version": 3
   },
   "file_extension": ".py",
   "mimetype": "text/x-python",
   "name": "python",
   "nbconvert_exporter": "python",
   "pygments_lexer": "ipython3",
   "version": "3.9.13"
  }
 },
 "nbformat": 4,
 "nbformat_minor": 5
}
